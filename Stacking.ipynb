{
  "cells": [
    {
      "cell_type": "code",
      "execution_count": 32,
      "metadata": {
        "id": "86VHNA0_cfXh"
      },
      "outputs": [],
      "source": [
        "#importing libraries\n",
        "import numpy as np\n",
        "import pandas as pd\n",
        "import os\n",
        "import math\n",
        "import matplotlib.pyplot as plt\n",
        "import seaborn as sns\n",
        " \n",
        "from sklearn.model_selection import train_test_split\n",
        "from sklearn.metrics import roc_auc_score, accuracy_score, precision_score, recall_score\n",
        "from sklearn.metrics import f1_score\n",
        "from sklearn.metrics import classification_report\n",
        "from sklearn.model_selection import cross_val_score\n",
        "from sklearn.metrics import roc_curve\n",
        " \n",
        "from sklearn.calibration import calibration_curve\n",
        "from sklearn import preprocessing\n",
        " \n",
        "from sklearn.feature_selection import SelectKBest\n",
        "from sklearn.feature_selection import chi2\n",
        "from sklearn.preprocessing import MinMaxScaler\n",
        "from sklearn.feature_selection import RFE\n",
        " \n",
        "#importing Basic Models\n",
        "from sklearn.linear_model import LogisticRegression\n",
        "from sklearn.linear_model import SGDClassifier\n",
        "from sklearn.linear_model import ElasticNetCV\n",
        "from sklearn.ensemble import GradientBoostingClassifier\n",
        "from sklearn.ensemble import BaggingClassifier\n",
        "from sklearn.ensemble import RandomForestClassifier, StackingClassifier\n",
        "from sklearn.tree import DecisionTreeClassifier\n",
        "from sklearn.naive_bayes import GaussianNB\n",
        "from sklearn.svm import LinearSVC\n",
        "from sklearn.neighbors import KNeighborsClassifier\n",
        "from sklearn.svm import SVC\n",
        "from sklearn.svm import NuSVC\n",
        "from lightgbm import LGBMClassifier\n",
        " \n",
        "from xgboost import XGBClassifier"
      ]
    },
    {
      "cell_type": "code",
      "execution_count": 33,
      "metadata": {
        "colab": {
          "base_uri": "https://localhost:8080/"
        },
        "id": "f2WNbBvscxPO",
        "outputId": "8d2ad1e2-eec0-4357-e7c2-292ba671e461"
      },
      "outputs": [],
      "source": [
        "\n",
        "#from google.colab import drive\n",
        "#drive.mount('/content/drive')"
      ]
    },
    {
      "cell_type": "markdown",
      "metadata": {},
      "source": [
        "Definition of all the functions for classifier model evaluation"
      ]
    },
    {
      "cell_type": "code",
      "execution_count": 34,
      "metadata": {
        "colab": {
          "base_uri": "https://localhost:8080/"
        },
        "id": "4OTFiSmtmtw3",
        "outputId": "3c105102-8510-4283-e1b2-9b101540b454"
      },
      "outputs": [
        {
          "name": "stdout",
          "output_type": "stream",
          "text": [
            "plot_cm defined\n",
            "plot_aucprc defined\n",
            "calc_prevalence defined\n",
            "calc_specificity defined\n",
            "print_report defined\n",
            "get_ci_auc defined\n"
          ]
        }
      ],
      "source": [
        "from sklearn.metrics import confusion_matrix\n",
        "#function for making a confusion matrix & visualize that\n",
        "def plot_cm(classifier, predictions):\n",
        "    cm = confusion_matrix(y_test, predictions)\n",
        "    \n",
        "    plt.clf()\n",
        "    plt.imshow(cm, interpolation='nearest', cmap='RdBu')\n",
        "    classNames = ['Hypertension','No Hypertension']\n",
        "    plt.title('Confusion Matrix')\n",
        "    plt.ylabel('True label')\n",
        "    plt.xlabel('Predicted label')\n",
        "    tick_marks = np.arange(len(classNames))\n",
        "    plt.xticks(tick_marks, classNames, rotation=45)\n",
        "    plt.yticks(tick_marks, classNames)\n",
        "    s = [['TN','FP'], ['FN', 'TP']]\n",
        "    \n",
        "    for i in range(2):\n",
        "        for j in range(2):\n",
        "            plt.text(j,i, str(s[i][j])+\" = \"+str(cm[i][j]), \n",
        "                     horizontalalignment='center', color='White')\n",
        "    \n",
        "    plt.show()\n",
        "print('plot_cm defined')   \n",
        "\n",
        "# Define function to calculate average precision score & to determine precision & recall vector to plot a PR graph.\n",
        "from sklearn.metrics import average_precision_score, precision_recall_curve\n",
        "\n",
        "def plot_aucprc(classifier, scores):\n",
        "    precision, recall, _ = precision_recall_curve(y_test, scores, pos_label=0)\n",
        "    average_precision = average_precision_score(y_test, scores)\n",
        "\n",
        "    print('Average precision-recall score: {0:0.3f}'.format(\n",
        "          average_precision))\n",
        "\n",
        "    plt.plot(recall, precision, label='area = %0.3f' % average_precision, color=\"green\")\n",
        "    plt.xlim([0.0, 1.0])\n",
        "    plt.ylim([0.0, 1.05])\n",
        "    plt.xlabel('Recall')\n",
        "    plt.ylabel('Precision')\n",
        "    plt.title('Precision Recall Curve')\n",
        "    plt.legend(loc=\"best\")\n",
        "    plt.show()\n",
        "    \n",
        "target_names = ['Hypertension ', 'No Hypertension']\n",
        "print('plot_aucprc defined') \n",
        "\n",
        "def calc_prevalence(y1):\n",
        "    return (sum(y1)/len(y1))   \n",
        "\n",
        "thresh = 0.5\n",
        "print('calc_prevalence defined') \n",
        "\n",
        "def calc_specificity(y_actual, y_pred, thresh):\n",
        "    # calculates specificity\n",
        "    return sum((y_pred < thresh) & (y_actual == 0)) /sum(y_actual ==0)\n",
        "\n",
        "print('calc_specificity defined') \n",
        "\n",
        "def print_report(y_actual, y_pred, thresh):\n",
        "    \n",
        "    auc = roc_auc_score(y_actual, y_pred)\n",
        "    accuracy = accuracy_score(y_actual, (y_pred > thresh))\n",
        "    recall = recall_score(y_actual, (y_pred > thresh))\n",
        "    precision = precision_score(y_actual, (y_pred > thresh))\n",
        "    specificity = calc_specificity(y_actual, y_pred, thresh)\n",
        "    sensitivity = 1/specificity\n",
        "    print('AUC:%.3f'%auc)\n",
        "    print('accuracy:%.3f'%accuracy)\n",
        "    print('recall:%.3f'%recall)\n",
        "    print('precision:%.3f'%precision)\n",
        "    print('specificity:%.3f'%specificity)\n",
        "    print('sensitivity:%.3f'%sensitivity)\n",
        "    print('prevalence:%.3f'%calc_prevalence(y_actual))\n",
        "\n",
        "    print(' ')\n",
        "    return auc, accuracy, recall, precision, specificity\n",
        "\n",
        "\n",
        "np.random.seed(1234)\n",
        "rng=np.random.RandomState(1234)\n",
        "\n",
        "print('print_report defined') \n",
        "\n",
        "def get_ci_auc( ytest, y_valid_preds ): \n",
        "\n",
        "    from scipy.stats import sem\n",
        "    from sklearn.metrics import roc_auc_score \n",
        "   \n",
        "    n_bootstraps = 1000   \n",
        "    bootstrapped_scores = []   \n",
        "   \n",
        "    for i in range(n_bootstraps):\n",
        "        # bootstrap by sampling with replacement on the prediction indices\n",
        "        indices = rng.random_integers(0, len(y_valid_preds) - 1, len(y_valid_preds))\n",
        "        #print('indices',np.unique(ytest[indices]))\n",
        "        #print(indices)\n",
        "        if len(np.unique(ytest[indices])) <= 2:\n",
        "            # We need at least one positive and one negative sample for ROC AUC\n",
        "            # to be defined: reject the sample\n",
        "            score = roc_auc_score(ytest[indices], y_valid_preds[indices])\n",
        "            bootstrapped_scores.append(score) \n",
        "\n",
        "    sorted_scores = np.array(bootstrapped_scores)\n",
        "    sorted_scores.sort()\n",
        "\n",
        "   # 90% c.i.    \n",
        "    confidence_lower = int(0.025 * len(sorted_scores))\n",
        "    confidence_upper = int(0.975 * len(sorted_scores))\n",
        "\n",
        "    return confidence_lower,confidence_upper\n",
        "\n",
        "print('get_ci_auc defined')"
      ]
    },
    {
      "cell_type": "code",
      "execution_count": 35,
      "metadata": {
        "id": "hPfMPe1lc0ZB"
      },
      "outputs": [],
      "source": [
        "#os.chdir(r\"/content/drive/MyDrive/Research for predicting hypertension/Dataset\")\n",
        "#dataset = pd.read_csv(\"Hypertension_data.csv\")\n",
        "#dataset = pd.read_csv(\"Hypertention.csv\",sep=';')\n",
        "dataset = pd.read_csv(\"MGE303_Term Project_Classification_Data (Disease).csv\")"
      ]
    },
    {
      "cell_type": "code",
      "execution_count": 36,
      "metadata": {
        "colab": {
          "base_uri": "https://localhost:8080/"
        },
        "id": "dp0_ktECV4Gn",
        "outputId": "197c83a6-e413-49de-b8f2-d145053419a8"
      },
      "outputs": [
        {
          "data": {
            "text/plain": [
              "Index(['HY_YN', 'AGE', 'gender', 'WAIST', 'BP_HIGH', 'BP_LWST', 'BLDS',\n",
              "       'TOT_CHOLE', 'SGOT_ASL', 'SGPT_ALT', 'GAMMA_GTP', 'HMG', 'H_APOP_YN',\n",
              "       'H_HDISE_YN', 'H_DIABML_YN', 'F_APOP_YN', 'F_HDISE_YN', 'F_HPRT_YN',\n",
              "       'F_DIABML_YN', 'DSQTY', 'SMK_TERM', 'EXER_M'],\n",
              "      dtype='object')"
            ]
          },
          "execution_count": 36,
          "metadata": {},
          "output_type": "execute_result"
        }
      ],
      "source": [
        "dataset.columns"
      ]
    },
    {
      "cell_type": "code",
      "execution_count": 37,
      "metadata": {
        "colab": {
          "base_uri": "https://localhost:8080/"
        },
        "id": "MdUZZF7wYe1o",
        "outputId": "f41cc9de-0bf8-4486-a1bc-dfcab7111313"
      },
      "outputs": [
        {
          "data": {
            "text/plain": [
              "(21613, 22)"
            ]
          },
          "execution_count": 37,
          "metadata": {},
          "output_type": "execute_result"
        }
      ],
      "source": [
        "dataset.shape"
      ]
    },
    {
      "cell_type": "code",
      "execution_count": 38,
      "metadata": {
        "colab": {
          "base_uri": "https://localhost:8080/",
          "height": 731
        },
        "id": "-CUn8XO5YjZ1",
        "outputId": "ca949a89-b1d0-4cc5-b476-221c495ee89e"
      },
      "outputs": [
        {
          "data": {
            "text/html": [
              "<div>\n",
              "<style scoped>\n",
              "    .dataframe tbody tr th:only-of-type {\n",
              "        vertical-align: middle;\n",
              "    }\n",
              "\n",
              "    .dataframe tbody tr th {\n",
              "        vertical-align: top;\n",
              "    }\n",
              "\n",
              "    .dataframe thead th {\n",
              "        text-align: right;\n",
              "    }\n",
              "</style>\n",
              "<table border=\"1\" class=\"dataframe\">\n",
              "  <thead>\n",
              "    <tr style=\"text-align: right;\">\n",
              "      <th></th>\n",
              "      <th>HY_YN</th>\n",
              "      <th>AGE</th>\n",
              "      <th>gender</th>\n",
              "      <th>WAIST</th>\n",
              "      <th>BP_HIGH</th>\n",
              "      <th>BP_LWST</th>\n",
              "      <th>BLDS</th>\n",
              "      <th>TOT_CHOLE</th>\n",
              "      <th>SGOT_ASL</th>\n",
              "      <th>SGPT_ALT</th>\n",
              "      <th>...</th>\n",
              "      <th>H_APOP_YN</th>\n",
              "      <th>H_HDISE_YN</th>\n",
              "      <th>H_DIABML_YN</th>\n",
              "      <th>F_APOP_YN</th>\n",
              "      <th>F_HDISE_YN</th>\n",
              "      <th>F_HPRT_YN</th>\n",
              "      <th>F_DIABML_YN</th>\n",
              "      <th>DSQTY</th>\n",
              "      <th>SMK_TERM</th>\n",
              "      <th>EXER_M</th>\n",
              "    </tr>\n",
              "  </thead>\n",
              "  <tbody>\n",
              "    <tr>\n",
              "      <th>0</th>\n",
              "      <td>1</td>\n",
              "      <td>66</td>\n",
              "      <td>1</td>\n",
              "      <td>76.0</td>\n",
              "      <td>120.0</td>\n",
              "      <td>70.0</td>\n",
              "      <td>87.0</td>\n",
              "      <td>199.0</td>\n",
              "      <td>22.0</td>\n",
              "      <td>13.0</td>\n",
              "      <td>...</td>\n",
              "      <td>0</td>\n",
              "      <td>0</td>\n",
              "      <td>0</td>\n",
              "      <td>0</td>\n",
              "      <td>0</td>\n",
              "      <td>0</td>\n",
              "      <td>0</td>\n",
              "      <td>0</td>\n",
              "      <td>5</td>\n",
              "      <td>Once a week</td>\n",
              "    </tr>\n",
              "    <tr>\n",
              "      <th>1</th>\n",
              "      <td>1</td>\n",
              "      <td>55</td>\n",
              "      <td>1</td>\n",
              "      <td>84.0</td>\n",
              "      <td>110.0</td>\n",
              "      <td>80.0</td>\n",
              "      <td>85.0</td>\n",
              "      <td>178.0</td>\n",
              "      <td>40.0</td>\n",
              "      <td>35.0</td>\n",
              "      <td>...</td>\n",
              "      <td>0</td>\n",
              "      <td>0</td>\n",
              "      <td>0</td>\n",
              "      <td>0</td>\n",
              "      <td>0</td>\n",
              "      <td>0</td>\n",
              "      <td>0</td>\n",
              "      <td>0</td>\n",
              "      <td>0</td>\n",
              "      <td>Never</td>\n",
              "    </tr>\n",
              "    <tr>\n",
              "      <th>2</th>\n",
              "      <td>1</td>\n",
              "      <td>54</td>\n",
              "      <td>0</td>\n",
              "      <td>84.0</td>\n",
              "      <td>117.0</td>\n",
              "      <td>76.0</td>\n",
              "      <td>92.0</td>\n",
              "      <td>195.0</td>\n",
              "      <td>20.0</td>\n",
              "      <td>20.0</td>\n",
              "      <td>...</td>\n",
              "      <td>0</td>\n",
              "      <td>0</td>\n",
              "      <td>0</td>\n",
              "      <td>0</td>\n",
              "      <td>0</td>\n",
              "      <td>0</td>\n",
              "      <td>0</td>\n",
              "      <td>0</td>\n",
              "      <td>0</td>\n",
              "      <td>Once a week</td>\n",
              "    </tr>\n",
              "    <tr>\n",
              "      <th>3</th>\n",
              "      <td>1</td>\n",
              "      <td>29</td>\n",
              "      <td>1</td>\n",
              "      <td>80.0</td>\n",
              "      <td>126.0</td>\n",
              "      <td>82.0</td>\n",
              "      <td>86.0</td>\n",
              "      <td>150.0</td>\n",
              "      <td>25.0</td>\n",
              "      <td>27.0</td>\n",
              "      <td>...</td>\n",
              "      <td>0</td>\n",
              "      <td>0</td>\n",
              "      <td>0</td>\n",
              "      <td>0</td>\n",
              "      <td>0</td>\n",
              "      <td>0</td>\n",
              "      <td>0</td>\n",
              "      <td>1</td>\n",
              "      <td>3</td>\n",
              "      <td>Once a week</td>\n",
              "    </tr>\n",
              "    <tr>\n",
              "      <th>4</th>\n",
              "      <td>1</td>\n",
              "      <td>43</td>\n",
              "      <td>1</td>\n",
              "      <td>82.0</td>\n",
              "      <td>130.0</td>\n",
              "      <td>85.0</td>\n",
              "      <td>104.0</td>\n",
              "      <td>134.0</td>\n",
              "      <td>31.0</td>\n",
              "      <td>23.0</td>\n",
              "      <td>...</td>\n",
              "      <td>0</td>\n",
              "      <td>0</td>\n",
              "      <td>0</td>\n",
              "      <td>0</td>\n",
              "      <td>0</td>\n",
              "      <td>0</td>\n",
              "      <td>0</td>\n",
              "      <td>2</td>\n",
              "      <td>3</td>\n",
              "      <td>Once a week</td>\n",
              "    </tr>\n",
              "  </tbody>\n",
              "</table>\n",
              "<p>5 rows × 22 columns</p>\n",
              "</div>"
            ],
            "text/plain": [
              "   HY_YN  AGE  gender  WAIST  BP_HIGH  BP_LWST   BLDS  TOT_CHOLE  SGOT_ASL  \\\n",
              "0      1   66       1   76.0    120.0     70.0   87.0      199.0      22.0   \n",
              "1      1   55       1   84.0    110.0     80.0   85.0      178.0      40.0   \n",
              "2      1   54       0   84.0    117.0     76.0   92.0      195.0      20.0   \n",
              "3      1   29       1   80.0    126.0     82.0   86.0      150.0      25.0   \n",
              "4      1   43       1   82.0    130.0     85.0  104.0      134.0      31.0   \n",
              "\n",
              "   SGPT_ALT  ...  H_APOP_YN  H_HDISE_YN  H_DIABML_YN  F_APOP_YN  F_HDISE_YN  \\\n",
              "0      13.0  ...          0           0            0          0           0   \n",
              "1      35.0  ...          0           0            0          0           0   \n",
              "2      20.0  ...          0           0            0          0           0   \n",
              "3      27.0  ...          0           0            0          0           0   \n",
              "4      23.0  ...          0           0            0          0           0   \n",
              "\n",
              "   F_HPRT_YN  F_DIABML_YN  DSQTY  SMK_TERM       EXER_M  \n",
              "0          0            0      0         5  Once a week  \n",
              "1          0            0      0         0        Never  \n",
              "2          0            0      0         0  Once a week  \n",
              "3          0            0      1         3  Once a week  \n",
              "4          0            0      2         3  Once a week  \n",
              "\n",
              "[5 rows x 22 columns]"
            ]
          },
          "execution_count": 38,
          "metadata": {},
          "output_type": "execute_result"
        }
      ],
      "source": [
        "dataset.head()"
      ]
    },
    {
      "cell_type": "code",
      "execution_count": 39,
      "metadata": {},
      "outputs": [
        {
          "data": {
            "image/png": "[encoded data removed]",
            "text/plain": [
              "<Figure size 504x504 with 1 Axes>"
            ]
          },
          "metadata": {},
          "output_type": "display_data"
        }
      ],
      "source": [
        "#Showing the percentage of hypertension & nonhypertension patient in the target field.\n",
        "labels =dataset['HY_YN'].value_counts(sort = True).index\n",
        "sizes = dataset['HY_YN'].value_counts(sort = True)\n",
        "\n",
        "colors = [\"lightblue\",\"red\"]\n",
        "explode = (0.05,0) \n",
        " \n",
        "plt.figure(figsize=(7,7))\n",
        "plt.pie(sizes, explode=explode, labels=labels, colors=colors, autopct='%1.1f%%', shadow=True, startangle=90,)\n",
        "\n",
        "plt.title('Number of Hypertension positive in the dataset')\n",
        "plt.show()"
      ]
    },
    {
      "cell_type": "code",
      "execution_count": 40,
      "metadata": {
        "colab": {
          "base_uri": "https://localhost:8080/"
        },
        "id": "y3u-WU-rX0rB",
        "outputId": "17f942da-6d64-415b-b365-e2c680f54a49"
      },
      "outputs": [
        {
          "data": {
            "text/plain": [
              "HY_YN           0\n",
              "AGE             0\n",
              "gender          0\n",
              "WAIST          44\n",
              "BP_HIGH         3\n",
              "BP_LWST         3\n",
              "BLDS            1\n",
              "TOT_CHOLE       0\n",
              "SGOT_ASL       27\n",
              "SGPT_ALT       22\n",
              "GAMMA_GTP      81\n",
              "HMG             6\n",
              "H_APOP_YN       0\n",
              "H_HDISE_YN      0\n",
              "H_DIABML_YN     0\n",
              "F_APOP_YN       0\n",
              "F_HDISE_YN      0\n",
              "F_HPRT_YN       0\n",
              "F_DIABML_YN     0\n",
              "DSQTY           0\n",
              "SMK_TERM        0\n",
              "EXER_M          0\n",
              "dtype: int64"
            ]
          },
          "execution_count": 40,
          "metadata": {},
          "output_type": "execute_result"
        }
      ],
      "source": [
        "dataset.isnull().sum()"
      ]
    },
    {
      "cell_type": "code",
      "execution_count": 41,
      "metadata": {
        "id": "GSs7JYS7ZdG3"
      },
      "outputs": [],
      "source": [
        "dataset = dataset.dropna()"
      ]
    },
    {
      "cell_type": "code",
      "execution_count": 42,
      "metadata": {
        "colab": {
          "base_uri": "https://localhost:8080/"
        },
        "id": "_ZgoaIIcZrMf",
        "outputId": "90098033-7c27-4e06-c9fa-0d6a6d741068"
      },
      "outputs": [
        {
          "data": {
            "text/plain": [
              "HY_YN          0\n",
              "AGE            0\n",
              "gender         0\n",
              "WAIST          0\n",
              "BP_HIGH        0\n",
              "BP_LWST        0\n",
              "BLDS           0\n",
              "TOT_CHOLE      0\n",
              "SGOT_ASL       0\n",
              "SGPT_ALT       0\n",
              "GAMMA_GTP      0\n",
              "HMG            0\n",
              "H_APOP_YN      0\n",
              "H_HDISE_YN     0\n",
              "H_DIABML_YN    0\n",
              "F_APOP_YN      0\n",
              "F_HDISE_YN     0\n",
              "F_HPRT_YN      0\n",
              "F_DIABML_YN    0\n",
              "DSQTY          0\n",
              "SMK_TERM       0\n",
              "EXER_M         0\n",
              "dtype: int64"
            ]
          },
          "execution_count": 42,
          "metadata": {},
          "output_type": "execute_result"
        }
      ],
      "source": [
        "dataset.isnull().sum()"
      ]
    },
    {
      "cell_type": "code",
      "execution_count": 43,
      "metadata": {
        "colab": {
          "base_uri": "https://localhost:8080/"
        },
        "id": "0kONhYTgSSxN",
        "outputId": "e9dd57ee-18a7-4a71-c7f8-e4a3c6580522"
      },
      "outputs": [
        {
          "data": {
            "text/plain": [
              "(21450, 22)"
            ]
          },
          "execution_count": 43,
          "metadata": {},
          "output_type": "execute_result"
        }
      ],
      "source": [
        "dataset.shape"
      ]
    },
    {
      "cell_type": "code",
      "execution_count": 44,
      "metadata": {
        "colab": {
          "base_uri": "https://localhost:8080/"
        },
        "id": "AVs5IhFDw74w",
        "outputId": "673d5b93-c6e0-4c83-fb6a-dc9a434a995b"
      },
      "outputs": [
        {
          "name": "stdout",
          "output_type": "stream",
          "text": [
            "The number of values for column: HY_YN Counter({0: 16102, 1: 5348})\n",
            "The number of values for column: AGE Counter({48: 836, 40: 817, 46: 793, 42: 756, 44: 693, 50: 685, 29: 636, 52: 632, 28: 605, 27: 601, 34: 583, 36: 569, 38: 556, 56: 550, 37: 550, 54: 548, 31: 536, 32: 535, 35: 531, 47: 530, 39: 526, 49: 518, 30: 516, 43: 507, 33: 505, 26: 501, 45: 488, 41: 439, 60: 425, 51: 409, 25: 393, 58: 388, 66: 347, 62: 314, 53: 293, 64: 269, 24: 261, 55: 252, 68: 243, 23: 218, 57: 203, 59: 170, 61: 154, 22: 140, 63: 96, 21: 91, 65: 89, 69: 55, 67: 50, 20: 48})\n",
            "The number of values for column: gender Counter({1: 12449, 0: 9001})\n",
            "The number of values for column: WAIST Counter({81.0: 1123, 80.0: 1035, 76.0: 974, 82.0: 925, 86.0: 904, 78.0: 861, 84.0: 838, 83.0: 809, 85.0: 799, 79.0: 775, 74.0: 758, 77.0: 753, 75.0: 692, 88.0: 670, 71.0: 661, 70.0: 622, 72.0: 622, 73.0: 613, 87.0: 599, 68.0: 564, 90.0: 547, 69.0: 517, 89.0: 506, 66.0: 422, 91.0: 417, 67.0: 370, 92.0: 352, 65.0: 280, 93.0: 266, 94.0: 234, 64.0: 234, 63.0: 196, 95.0: 195, 62.0: 167, 96.0: 164, 97.0: 142, 98.0: 124, 61.0: 105, 60.0: 98, 99.0: 89, 100.0: 82, 101.0: 50, 102.0: 46, 58.0: 35, 103.0: 34, 104.0: 31, 59.0: 27, 105.0: 19, 106.0: 17, 57.0: 12, 108.0: 9, 56.0: 9, 107.0: 9, 109.0: 6, 110.0: 6, 112.0: 5, 111.0: 5, 113.0: 4, 118.0: 3, 53.0: 3, 54.0: 3, 55.0: 3, 116.0: 2, 115.0: 1, 114.0: 1, 122.0: 1, 9.0: 1, 117.0: 1, 120.0: 1, 46.0: 1, 5.0: 1})\n",
            "The number of values for column: BP_HIGH Counter({120.0: 3537, 110.0: 3290, 130.0: 2964, 100.0: 1258, 135.0: 677, 115.0: 622, 125.0: 510, 119.0: 489, 118.0: 463, 139.0: 387, 138.0: 381, 128.0: 327, 126.0: 301, 129.0: 273, 132.0: 271, 124.0: 270, 112.0: 265, 122.0: 259, 90.0: 256, 116.0: 253, 134.0: 251, 114.0: 247, 105.0: 243, 136.0: 238, 117.0: 230, 123.0: 226, 127.0: 204, 133.0: 204, 121.0: 202, 131.0: 198, 111.0: 194, 108.0: 192, 113.0: 175, 109.0: 167, 137.0: 165, 106.0: 162, 104.0: 159, 107.0: 158, 103.0: 115, 102.0: 106, 101.0: 87, 95.0: 73, 99.0: 63, 98.0: 59, 96.0: 58, 97.0: 43, 94.0: 42, 93.0: 34, 92.0: 30, 91.0: 19, 88.0: 9, 81.0: 7, 87.0: 7, 83.0: 6, 85.0: 6, 86.0: 6, 89.0: 5, 84.0: 4, 80.0: 2, 82.0: 1})\n",
            "The number of values for column: BP_LWST Counter({80.0: 5426, 70.0: 4496, 60.0: 1437, 85.0: 879, 75.0: 846, 78.0: 549, 79.0: 510, 76.0: 441, 89.0: 432, 74.0: 397, 72.0: 388, 82.0: 366, 65.0: 342, 68.0: 316, 73.0: 313, 69.0: 309, 77.0: 308, 84.0: 306, 88.0: 305, 71.0: 295, 66.0: 284, 64.0: 268, 67.0: 263, 81.0: 258, 86.0: 251, 83.0: 220, 63.0: 199, 87.0: 186, 62.0: 181, 61.0: 181, 59.0: 88, 58.0: 78, 56.0: 57, 55.0: 54, 54.0: 53, 51.0: 48, 57.0: 47, 53.0: 34, 52.0: 17, 50.0: 13, 46.0: 2, 48.0: 2, 43.0: 2, 44.0: 1, 42.0: 1, 49.0: 1})\n",
            "The number of values for column: BLDS Counter({88.0: 792, 89.0: 774, 90.0: 741, 91.0: 733, 94.0: 723, 86.0: 718, 87.0: 714, 85.0: 704, 93.0: 688, 92.0: 678, 84.0: 646, 96.0: 624, 95.0: 624, 83.0: 612, 97.0: 586, 82.0: 585, 98.0: 564, 80.0: 553, 99.0: 550, 81.0: 525, 100.0: 481, 79.0: 461, 78.0: 408, 101.0: 405, 77.0: 350, 102.0: 350, 76.0: 341, 75.0: 329, 103.0: 300, 104.0: 297, 105.0: 291, 74.0: 234, 106.0: 226, 107.0: 222, 110.0: 214, 71.0: 203, 73.0: 201, 72.0: 199, 108.0: 188, 70.0: 186, 109.0: 154, 112.0: 143, 111.0: 140, 113.0: 126, 114.0: 102, 115.0: 100, 120.0: 94, 116.0: 85, 119.0: 78, 117.0: 72, 118.0: 65, 124.0: 55, 121.0: 51, 123.0: 50, 122.0: 45, 125.0: 44, 68.0: 36, 69.0: 35, 67.0: 32, 128.0: 31, 127.0: 30, 130.0: 28, 126.0: 25, 131.0: 24, 65.0: 24, 129.0: 21, 133.0: 21, 134.0: 20, 132.0: 19, 143.0: 19, 61.0: 19, 137.0: 17, 142.0: 17, 136.0: 17, 140.0: 17, 146.0: 14, 139.0: 14, 135.0: 14, 66.0: 13, 138.0: 13, 151.0: 13, 145.0: 13, 64.0: 13, 141.0: 12, 148.0: 12, 150.0: 11, 159.0: 11, 144.0: 11, 63.0: 11, 156.0: 11, 175.0: 10, 163.0: 10, 62.0: 10, 147.0: 9, 164.0: 9, 152.0: 8, 185.0: 8, 160.0: 8, 155.0: 8, 170.0: 7, 158.0: 7, 174.0: 7, 181.0: 7, 154.0: 7, 169.0: 6, 199.0: 6, 149.0: 6, 191.0: 5, 187.0: 5, 168.0: 5, 193.0: 5, 177.0: 5, 171.0: 5, 153.0: 5, 167.0: 5, 190.0: 5, 172.0: 5, 194.0: 5, 192.0: 5, 173.0: 4, 205.0: 4, 165.0: 4, 220.0: 4, 157.0: 4, 200.0: 4, 209.0: 4, 197.0: 4, 218.0: 4, 213.0: 4, 162.0: 4, 188.0: 4, 166.0: 4, 247.0: 3, 272.0: 3, 210.0: 3, 227.0: 3, 224.0: 3, 60.0: 3, 161.0: 3, 178.0: 3, 235.0: 2, 221.0: 2, 208.0: 2, 254.0: 2, 182.0: 2, 44.0: 2, 257.0: 2, 215.0: 2, 196.0: 2, 240.0: 2, 189.0: 2, 204.0: 2, 176.0: 2, 228.0: 2, 365.0: 2, 244.0: 2, 201.0: 2, 184.0: 2, 180.0: 2, 223.0: 2, 433.0: 2, 57.0: 2, 230.0: 2, 234.0: 2, 55.0: 2, 279.0: 2, 233.0: 2, 285.0: 1, 250.0: 1, 231.0: 1, 333.0: 1, 283.0: 1, 246.0: 1, 354.0: 1, 206.0: 1, 265.0: 1, 195.0: 1, 242.0: 1, 277.0: 1, 252.0: 1, 282.0: 1, 309.0: 1, 56.0: 1, 266.0: 1, 311.0: 1, 198.0: 1, 275.0: 1, 268.0: 1, 284.0: 1, 50.0: 1, 308.0: 1, 229.0: 1, 214.0: 1, 328.0: 1, 259.0: 1, 500.0: 1, 342.0: 1, 280.0: 1, 179.0: 1, 271.0: 1, 207.0: 1, 216.0: 1, 232.0: 1, 211.0: 1, 430.0: 1, 359.0: 1, 251.0: 1, 239.0: 1, 403.0: 1, 261.0: 1, 249.0: 1, 202.0: 1, 368.0: 1, 264.0: 1, 245.0: 1, 59.0: 1, 212.0: 1, 474.0: 1, 46.0: 1, 315.0: 1, 226.0: 1, 58.0: 1, 345.0: 1, 40.0: 1, 295.0: 1, 52.0: 1, 460.0: 1, 351.0: 1, 273.0: 1, 274.0: 1, 320.0: 1, 253.0: 1})\n",
            "The number of values for column: TOT_CHOLE Counter({185.0: 277, 199.0: 274, 192.0: 272, 191.0: 264, 179.0: 256, 182.0: 255, 197.0: 253, 189.0: 252, 183.0: 252, 190.0: 252, 194.0: 251, 187.0: 250, 177.0: 249, 180.0: 246, 184.0: 245, 200.0: 245, 195.0: 241, 210.0: 240, 178.0: 239, 172.0: 239, 193.0: 238, 196.0: 238, 175.0: 237, 170.0: 237, 181.0: 233, 186.0: 233, 202.0: 229, 165.0: 226, 188.0: 225, 198.0: 222, 173.0: 222, 164.0: 219, 176.0: 218, 168.0: 218, 174.0: 213, 171.0: 211, 166.0: 209, 205.0: 207, 169.0: 204, 159.0: 201, 211.0: 201, 203.0: 200, 167.0: 200, 204.0: 197, 163.0: 197, 209.0: 193, 212.0: 193, 156.0: 193, 220.0: 192, 208.0: 192, 201.0: 189, 206.0: 189, 162.0: 189, 213.0: 184, 160.0: 183, 155.0: 179, 158.0: 178, 161.0: 175, 207.0: 171, 157.0: 170, 219.0: 169, 214.0: 168, 215.0: 166, 154.0: 161, 216.0: 159, 153.0: 158, 150.0: 156, 230.0: 156, 224.0: 151, 239.0: 150, 151.0: 147, 221.0: 144, 225.0: 144, 217.0: 137, 152.0: 137, 149.0: 137, 223.0: 136, 218.0: 134, 229.0: 129, 226.0: 128, 222.0: 126, 145.0: 125, 148.0: 123, 228.0: 120, 227.0: 120, 147.0: 114, 238.0: 114, 232.0: 110, 146.0: 109, 237.0: 109, 144.0: 108, 143.0: 106, 141.0: 104, 231.0: 103, 235.0: 103, 233.0: 100, 142.0: 100, 234.0: 100, 140.0: 97, 236.0: 94, 139.0: 91, 240.0: 85, 134.0: 77, 137.0: 75, 243.0: 74, 138.0: 73, 132.0: 73, 130.0: 72, 244.0: 71, 135.0: 70, 250.0: 68, 136.0: 66, 242.0: 62, 133.0: 61, 241.0: 60, 246.0: 60, 245.0: 59, 247.0: 56, 248.0: 52, 253.0: 51, 255.0: 49, 249.0: 48, 262.0: 47, 129.0: 44, 251.0: 44, 259.0: 42, 252.0: 40, 131.0: 39, 125.0: 37, 260.0: 36, 258.0: 36, 261.0: 36, 256.0: 35, 265.0: 35, 128.0: 35, 127.0: 34, 257.0: 32, 263.0: 31, 267.0: 31, 254.0: 31, 121.0: 29, 264.0: 29, 266.0: 28, 269.0: 27, 124.0: 27, 270.0: 27, 126.0: 26, 274.0: 25, 279.0: 25, 275.0: 24, 123.0: 22, 120.0: 21, 119.0: 21, 271.0: 20, 116.0: 20, 277.0: 19, 122.0: 18, 272.0: 16, 111.0: 16, 273.0: 15, 278.0: 15, 115.0: 15, 288.0: 14, 286.0: 14, 118.0: 14, 285.0: 14, 280.0: 14, 283.0: 13, 276.0: 13, 268.0: 13, 117.0: 12, 282.0: 12, 284.0: 11, 295.0: 10, 291.0: 10, 292.0: 9, 287.0: 9, 114.0: 9, 304.0: 9, 113.0: 9, 300.0: 9, 281.0: 9, 289.0: 8, 297.0: 8, 294.0: 8, 110.0: 7, 290.0: 7, 299.0: 7, 296.0: 7, 293.0: 7, 316.0: 6, 307.0: 6, 302.0: 6, 107.0: 6, 318.0: 5, 305.0: 5, 112.0: 5, 315.0: 5, 104.0: 5, 309.0: 5, 105.0: 4, 109.0: 4, 301.0: 4, 303.0: 3, 322.0: 3, 312.0: 3, 335.0: 3, 103.0: 3, 313.0: 3, 332.0: 3, 108.0: 3, 102.0: 3, 306.0: 3, 326.0: 2, 310.0: 2, 325.0: 2, 341.0: 2, 97.0: 2, 323.0: 2, 101.0: 2, 106.0: 2, 99.0: 2, 337.0: 2, 367.0: 1, 407.0: 1, 317.0: 1, 320.0: 1, 100.0: 1, 383.0: 1, 353.0: 1, 92.0: 1, 380.0: 1, 321.0: 1, 360.0: 1, 466.0: 1, 82.0: 1, 83.0: 1, 468.0: 1, 334.0: 1, 346.0: 1, 329.0: 1, 333.0: 1, 452.0: 1, 330.0: 1, 343.0: 1, 336.0: 1, 314.0: 1, 311.0: 1, 89.0: 1, 324.0: 1, 351.0: 1, 462.0: 1, 340.0: 1, 375.0: 1, 66.0: 1, 381.0: 1, 308.0: 1, 327.0: 1, 298.0: 1})\n",
            "The number of values for column: SGOT_ASL Counter({20.0: 1495, 19.0: 1476, 21.0: 1440, 18.0: 1378, 22.0: 1320, 17.0: 1241, 23.0: 1239, 24.0: 1093, 16.0: 1036, 25.0: 975, 26.0: 830, 15.0: 770, 27.0: 742, 28.0: 660, 29.0: 552, 14.0: 533, 30.0: 506, 31.0: 389, 32.0: 344, 13.0: 343, 33.0: 312, 34.0: 263, 12.0: 251, 35.0: 213, 36.0: 184, 37.0: 167, 38.0: 145, 39.0: 134, 40.0: 120, 11.0: 106, 41.0: 105, 43.0: 79, 42.0: 79, 44.0: 72, 46.0: 62, 45.0: 61, 10.0: 57, 47.0: 52, 48.0: 47, 50.0: 41, 52.0: 36, 49.0: 31, 51.0: 29, 53.0: 25, 55.0: 24, 54.0: 23, 58.0: 20, 56.0: 20, 60.0: 20, 9.0: 20, 57.0: 15, 8.0: 15, 63.0: 13, 64.0: 12, 66.0: 12, 62.0: 11, 59.0: 11, 65.0: 10, 61.0: 10, 75.0: 9, 68.0: 7, 7.0: 7, 67.0: 7, 69.0: 7, 76.0: 6, 70.0: 6, 73.0: 6, 92.0: 6, 74.0: 5, 72.0: 5, 81.0: 5, 91.0: 5, 79.0: 5, 90.0: 4, 84.0: 4, 78.0: 4, 80.0: 4, 71.0: 3, 82.0: 3, 116.0: 3, 121.0: 3, 6.0: 3, 86.0: 3, 99.0: 3, 114.0: 2, 170.0: 2, 83.0: 2, 100.0: 2, 93.0: 2, 139.0: 2, 131.0: 2, 107.0: 2, 88.0: 2, 89.0: 2, 94.0: 2, 113.0: 2, 4.0: 2, 87.0: 2, 108.0: 2, 85.0: 2, 127.0: 1, 187.0: 1, 132.0: 1, 103.0: 1, 77.0: 1, 95.0: 1, 122.0: 1, 186.0: 1, 110.0: 1, 119.0: 1, 117.0: 1, 143.0: 1, 2.0: 1, 111.0: 1, 169.0: 1, 112.0: 1, 133.0: 1, 138.0: 1, 144.0: 1, 101.0: 1, 5.0: 1, 164.0: 1, 153.0: 1, 155.0: 1, 97.0: 1, 135.0: 1})\n",
            "The number of values for column: SGPT_ALT Counter({14.0: 1075, 15.0: 1059, 16.0: 1035, 17.0: 994, 13.0: 986, 18.0: 952, 12.0: 933, 19.0: 885, 11.0: 846, 20.0: 811, 21.0: 772, 10.0: 770, 22.0: 738, 23.0: 665, 24.0: 591, 25.0: 541, 27.0: 485, 26.0: 483, 28.0: 472, 9.0: 419, 29.0: 355, 31.0: 327, 30.0: 321, 32.0: 296, 34.0: 282, 33.0: 263, 8.0: 253, 35.0: 249, 36.0: 216, 38.0: 192, 37.0: 181, 40.0: 174, 45.0: 161, 7.0: 141, 43.0: 139, 39.0: 132, 41.0: 120, 42.0: 114, 44.0: 112, 46.0: 99, 48.0: 86, 49.0: 80, 6.0: 76, 47.0: 71, 51.0: 60, 50.0: 59, 54.0: 56, 59.0: 52, 53.0: 51, 57.0: 50, 52.0: 49, 56.0: 47, 58.0: 47, 55.0: 45, 61.0: 43, 60.0: 39, 65.0: 38, 5.0: 38, 62.0: 37, 63.0: 35, 64.0: 32, 68.0: 32, 67.0: 30, 69.0: 29, 70.0: 27, 72.0: 25, 66.0: 24, 73.0: 23, 77.0: 20, 83.0: 19, 75.0: 18, 4.0: 17, 82.0: 17, 76.0: 16, 81.0: 15, 90.0: 15, 80.0: 14, 79.0: 13, 74.0: 13, 86.0: 13, 71.0: 12, 78.0: 12, 92.0: 12, 85.0: 11, 93.0: 11, 87.0: 11, 99.0: 10, 91.0: 10, 100.0: 9, 84.0: 8, 101.0: 7, 96.0: 7, 89.0: 7, 102.0: 7, 94.0: 7, 98.0: 7, 3.0: 7, 111.0: 6, 97.0: 6, 104.0: 6, 117.0: 5, 103.0: 5, 160.0: 5, 134.0: 5, 109.0: 5, 105.0: 5, 95.0: 5, 133.0: 4, 184.0: 4, 110.0: 4, 130.0: 4, 88.0: 4, 116.0: 4, 125.0: 4, 106.0: 4, 164.0: 3, 2.0: 3, 108.0: 3, 136.0: 3, 137.0: 3, 128.0: 3, 119.0: 3, 139.0: 3, 113.0: 3, 140.0: 3, 161.0: 3, 157.0: 3, 131.0: 3, 115.0: 3, 132.0: 3, 118.0: 3, 107.0: 2, 121.0: 2, 155.0: 2, 198.0: 2, 153.0: 2, 152.0: 2, 169.0: 2, 147.0: 2, 123.0: 2, 146.0: 2, 122.0: 2, 170.0: 2, 120.0: 2, 191.0: 2, 150.0: 1, 189.0: 1, 124.0: 1, 144.0: 1, 178.0: 1, 165.0: 1, 166.0: 1, 126.0: 1, 114.0: 1, 192.0: 1, 154.0: 1, 196.0: 1, 159.0: 1, 168.0: 1, 127.0: 1, 167.0: 1, 174.0: 1, 142.0: 1, 188.0: 1, 197.0: 1, 138.0: 1, 187.0: 1, 172.0: 1, 182.0: 1})\n",
            "The number of values for column: GAMMA_GTP Counter({14.0: 903, 13.0: 880, 15.0: 867, 12.0: 856, 16.0: 830, 17.0: 812, 18.0: 740, 19.0: 720, 20.0: 671, 11.0: 653, 21.0: 603, 10.0: 584, 23.0: 574, 22.0: 561, 24.0: 518, 25.0: 470, 26.0: 429, 27.0: 428, 28.0: 411, 29.0: 389, 31.0: 336, 9.0: 336, 30.0: 327, 32.0: 300, 33.0: 295, 34.0: 273, 35.0: 248, 8.0: 241, 37.0: 226, 36.0: 222, 38.0: 203, 39.0: 188, 45.0: 183, 40.0: 183, 42.0: 166, 41.0: 164, 43.0: 164, 46.0: 142, 48.0: 136, 44.0: 136, 50.0: 130, 49.0: 119, 51.0: 116, 47.0: 116, 52.0: 115, 7.0: 114, 56.0: 106, 54.0: 104, 59.0: 101, 53.0: 98, 55.0: 97, 60.0: 83, 58.0: 80, 57.0: 76, 63.0: 74, 62.0: 69, 66.0: 69, 71.0: 67, 61.0: 63, 69.0: 58, 77.0: 58, 72.0: 57, 68.0: 57, 70.0: 57, 65.0: 57, 67.0: 55, 6.0: 54, 64.0: 52, 73.0: 49, 85.0: 42, 74.0: 42, 75.0: 41, 76.0: 40, 82.0: 39, 80.0: 35, 81.0: 34, 79.0: 34, 88.0: 33, 93.0: 32, 111.0: 30, 84.0: 30, 91.0: 29, 78.0: 29, 86.0: 28, 87.0: 28, 5.0: 28, 83.0: 27, 94.0: 26, 103.0: 26, 98.0: 25, 95.0: 25, 100.0: 24, 118.0: 23, 90.0: 22, 102.0: 22, 101.0: 21, 96.0: 20, 108.0: 20, 97.0: 19, 105.0: 19, 92.0: 19, 121.0: 18, 106.0: 17, 107.0: 17, 99.0: 17, 116.0: 16, 117.0: 16, 89.0: 15, 109.0: 14, 120.0: 14, 104.0: 14, 143.0: 14, 150.0: 13, 122.0: 13, 124.0: 13, 141.0: 12, 126.0: 12, 129.0: 11, 144.0: 10, 110.0: 10, 132.0: 10, 142.0: 10, 113.0: 10, 125.0: 10, 136.0: 10, 130.0: 10, 138.0: 9, 115.0: 9, 119.0: 9, 135.0: 9, 154.0: 9, 140.0: 9, 149.0: 9, 184.0: 8, 160.0: 8, 3.0: 8, 112.0: 8, 139.0: 7, 152.0: 7, 153.0: 7, 134.0: 7, 147.0: 7, 127.0: 7, 151.0: 7, 175.0: 7, 148.0: 7, 159.0: 7, 123.0: 7, 128.0: 7, 179.0: 7, 145.0: 7, 4.0: 7, 216.0: 6, 162.0: 6, 114.0: 6, 172.0: 6, 146.0: 6, 163.0: 6, 131.0: 5, 239.0: 5, 228.0: 5, 181.0: 5, 155.0: 5, 164.0: 5, 171.0: 5, 158.0: 5, 156.0: 5, 186.0: 4, 157.0: 4, 210.0: 4, 209.0: 4, 133.0: 4, 180.0: 4, 192.0: 4, 170.0: 4, 259.0: 4, 214.0: 4, 178.0: 4, 137.0: 4, 243.0: 4, 199.0: 4, 169.0: 4, 182.0: 3, 200.0: 3, 213.0: 3, 189.0: 3, 166.0: 3, 203.0: 3, 256.0: 3, 219.0: 3, 220.0: 3, 274.0: 3, 215.0: 3, 183.0: 3, 176.0: 3, 273.0: 3, 174.0: 3, 2.0: 3, 205.0: 3, 258.0: 3, 235.0: 3, 165.0: 3, 283.0: 2, 272.0: 2, 279.0: 2, 267.0: 2, 299.0: 2, 173.0: 2, 191.0: 2, 255.0: 2, 195.0: 2, 167.0: 2, 202.0: 2, 253.0: 2, 168.0: 2, 238.0: 2, 177.0: 2, 230.0: 2, 266.0: 2, 277.0: 2, 234.0: 2, 198.0: 2, 197.0: 2, 188.0: 2, 225.0: 2, 284.0: 2, 285.0: 2, 242.0: 1, 196.0: 1, 227.0: 1, 247.0: 1, 249.0: 1, 254.0: 1, 231.0: 1, 271.0: 1, 248.0: 1, 296.0: 1, 288.0: 1, 237.0: 1, 212.0: 1, 193.0: 1, 260.0: 1, 300.0: 1, 245.0: 1, 187.0: 1, 161.0: 1, 226.0: 1, 265.0: 1, 289.0: 1, 246.0: 1, 286.0: 1, 293.0: 1, 236.0: 1, 194.0: 1, 206.0: 1, 222.0: 1, 270.0: 1, 221.0: 1, 244.0: 1, 232.0: 1, 204.0: 1, 223.0: 1, 240.0: 1, 208.0: 1, 201.0: 1, 257.0: 1, 218.0: 1, 287.0: 1, 217.0: 1})\n",
            "The number of values for column: HMG Counter({14.0: 641, 15.0: 635, 13.0: 574, 14.3: 526, 14.6: 502, 15.3: 491, 14.7: 482, 13.3: 473, 14.8: 465, 15.4: 465, 14.2: 462, 15.6: 449, 13.9: 449, 14.9: 446, 15.1: 445, 15.5: 444, 15.2: 443, 14.5: 441, 13.6: 431, 13.1: 430, 13.8: 429, 13.7: 414, 13.4: 414, 14.1: 413, 12.9: 413, 14.4: 405, 13.5: 403, 12.6: 403, 13.2: 400, 12.0: 394, 15.8: 387, 12.7: 383, 12.8: 370, 16.0: 369, 15.7: 363, 12.3: 363, 12.5: 361, 12.4: 321, 15.9: 314, 16.1: 279, 12.2: 277, 12.1: 277, 16.3: 266, 16.4: 242, 16.2: 219, 16.5: 210, 11.9: 186, 16.6: 167, 11.8: 154, 11.6: 146, 16.7: 123, 11.7: 123, 11.3: 117, 11.5: 114, 16.9: 105, 16.8: 104, 17.0: 103, 11.4: 103, 11.0: 92, 11.2: 88, 11.1: 65, 17.2: 60, 17.1: 55, 10.9: 54, 17.3: 48, 10.7: 38, 17.5: 37, 10.6: 36, 10.8: 35, 10.5: 34, 17.4: 31, 10.0: 30, 10.3: 28, 10.4: 22, 10.1: 20, 10.2: 20, 9.7: 19, 9.9: 19, 18.0: 18, 9.6: 17, 9.8: 16, 17.6: 16, 9.5: 13, 17.7: 13, 9.3: 13, 9.2: 12, 8.5: 11, 8.0: 11, 17.9: 11, 9.4: 10, 8.6: 10, 17.8: 9, 9.0: 8, 8.9: 8, 8.4: 7, 9.1: 7, 7.9: 6, 18.2: 6, 7.4: 6, 8.7: 5, 8.1: 5, 8.2: 4, 7.7: 4, 18.5: 4, 8.8: 4, 7.0: 3, 7.6: 3, 8.3: 3, 18.1: 2, 18.8: 2, 6.0: 2, 7.2: 2, 7.5: 2, 7.3: 2, 7.8: 2, 18.7: 1, 18.3: 1, 19.2: 1, 18.4: 1, 6.5: 1, 18.9: 1, 6.7: 1, 6.3: 1, 1.5: 1, 5.8: 1, 18.6: 1, 19.0: 1, 6.4: 1, 6.2: 1})\n",
            "The number of values for column: H_APOP_YN Counter({0: 21434, 1: 16})\n",
            "The number of values for column: H_HDISE_YN Counter({0: 21425, 1: 25})\n",
            "The number of values for column: H_DIABML_YN Counter({0: 21409, 1: 41})\n",
            "The number of values for column: F_APOP_YN Counter({0: 20409, 1: 1041})\n",
            "The number of values for column: F_HDISE_YN Counter({0: 20839, 1: 611})\n",
            "The number of values for column: F_HPRT_YN Counter({0: 19551, 1: 1899})\n",
            "The number of values for column: F_DIABML_YN Counter({0: 19585, 1: 1865})\n",
            "The number of values for column: DSQTY Counter({0: 15171, 2: 3477, 3: 1400, 1: 1321, 4: 81})\n",
            "The number of values for column: SMK_TERM Counter({0: 13692, 3: 3046, 4: 1745, 2: 1501, 5: 825, 1: 618, 6: 23})\n",
            "The number of values for column: EXER_M Counter({'Never': 10781, 'Once a week': 6719, '2-3 a week': 2543, '>5 a week': 783, '4-5 a week': 624})\n"
          ]
        }
      ],
      "source": [
        "from collections import Counter\n",
        "print(\"The number of values for column: HY_YN {}\".format(Counter(dataset.HY_YN)))\n",
        "print(\"The number of values for column: AGE {}\".format(Counter(dataset.AGE)))\n",
        "print(\"The number of values for column: gender {}\".format(Counter(dataset.gender)))\n",
        "print(\"The number of values for column: WAIST {}\".format(Counter(dataset.WAIST)))\n",
        "print(\"The number of values for column: BP_HIGH {}\".format(Counter(dataset.BP_HIGH)))\n",
        "print(\"The number of values for column: BP_LWST {}\".format(Counter(dataset.BP_LWST)))\n",
        "print(\"The number of values for column: BLDS {}\".format(Counter(dataset.BLDS)))\n",
        "print(\"The number of values for column: TOT_CHOLE {}\".format(Counter(dataset.TOT_CHOLE)))\n",
        "print(\"The number of values for column: SGOT_ASL {}\".format(Counter(dataset.SGOT_ASL)))\n",
        "print(\"The number of values for column: SGPT_ALT {}\".format(Counter(dataset.SGPT_ALT)))\n",
        "print(\"The number of values for column: GAMMA_GTP {}\".format(Counter(dataset.GAMMA_GTP)))\n",
        "print(\"The number of values for column: HMG {}\".format(Counter(dataset.HMG)))\n",
        "print(\"The number of values for column: H_APOP_YN {}\".format(Counter(dataset.H_APOP_YN)))\n",
        "print(\"The number of values for column: H_HDISE_YN {}\".format(Counter(dataset.H_HDISE_YN)))\n",
        "print(\"The number of values for column: H_DIABML_YN {}\".format(Counter(dataset.H_DIABML_YN)))\n",
        "print(\"The number of values for column: F_APOP_YN {}\".format(Counter(dataset.F_APOP_YN)))\n",
        "print(\"The number of values for column: F_HDISE_YN {}\".format(Counter(dataset.F_HDISE_YN)))\n",
        "print(\"The number of values for column: F_HPRT_YN {}\".format(Counter(dataset.F_HPRT_YN)))\n",
        "print(\"The number of values for column: F_DIABML_YN {}\".format(Counter(dataset.F_DIABML_YN)))\n",
        "print(\"The number of values for column: DSQTY {}\".format(Counter(dataset.DSQTY)))\n",
        "print(\"The number of values for column: SMK_TERM {}\".format(Counter(dataset.SMK_TERM)))\n",
        "print(\"The number of values for column: EXER_M {}\".format(Counter(dataset.EXER_M)))\n"
      ]
    },
    {
      "cell_type": "markdown",
      "metadata": {},
      "source": [
        "**Exploratory data analysis**"
      ]
    },
    {
      "cell_type": "code",
      "execution_count": 61,
      "metadata": {},
      "outputs": [
        {
          "data": {
            "text/html": [
              "<div>\n",
              "<style scoped>\n",
              "    .dataframe tbody tr th:only-of-type {\n",
              "        vertical-align: middle;\n",
              "    }\n",
              "\n",
              "    .dataframe tbody tr th {\n",
              "        vertical-align: top;\n",
              "    }\n",
              "\n",
              "    .dataframe thead th {\n",
              "        text-align: right;\n",
              "    }\n",
              "</style>\n",
              "<table border=\"1\" class=\"dataframe\">\n",
              "  <thead>\n",
              "    <tr style=\"text-align: right;\">\n",
              "      <th></th>\n",
              "      <th>HY_YN</th>\n",
              "      <th>AGE</th>\n",
              "      <th>gender</th>\n",
              "      <th>WAIST</th>\n",
              "      <th>BP_HIGH</th>\n",
              "      <th>BP_LWST</th>\n",
              "      <th>BLDS</th>\n",
              "      <th>TOT_CHOLE</th>\n",
              "      <th>SGOT_ASL</th>\n",
              "      <th>SGPT_ALT</th>\n",
              "      <th>...</th>\n",
              "      <th>H_APOP_YN</th>\n",
              "      <th>H_HDISE_YN</th>\n",
              "      <th>H_DIABML_YN</th>\n",
              "      <th>F_APOP_YN</th>\n",
              "      <th>F_HDISE_YN</th>\n",
              "      <th>F_HPRT_YN</th>\n",
              "      <th>F_DIABML_YN</th>\n",
              "      <th>DSQTY</th>\n",
              "      <th>SMK_TERM</th>\n",
              "      <th>EXER_M</th>\n",
              "    </tr>\n",
              "  </thead>\n",
              "  <tbody>\n",
              "    <tr>\n",
              "      <th>count</th>\n",
              "      <td>21450.000000</td>\n",
              "      <td>21450.000000</td>\n",
              "      <td>21450.000000</td>\n",
              "      <td>21450.000000</td>\n",
              "      <td>21450.000000</td>\n",
              "      <td>21450.000000</td>\n",
              "      <td>21450.000000</td>\n",
              "      <td>21450.000000</td>\n",
              "      <td>21450.000000</td>\n",
              "      <td>21450.000000</td>\n",
              "      <td>...</td>\n",
              "      <td>21450.000000</td>\n",
              "      <td>21450.000000</td>\n",
              "      <td>21450.000000</td>\n",
              "      <td>21450.000000</td>\n",
              "      <td>21450.000000</td>\n",
              "      <td>21450.000000</td>\n",
              "      <td>21450.000000</td>\n",
              "      <td>21450.000000</td>\n",
              "      <td>21450.000000</td>\n",
              "      <td>21450.000000</td>\n",
              "    </tr>\n",
              "    <tr>\n",
              "      <th>mean</th>\n",
              "      <td>0.249324</td>\n",
              "      <td>42.605035</td>\n",
              "      <td>0.580373</td>\n",
              "      <td>79.591841</td>\n",
              "      <td>118.823730</td>\n",
              "      <td>74.290676</td>\n",
              "      <td>93.945035</td>\n",
              "      <td>191.653800</td>\n",
              "      <td>24.089650</td>\n",
              "      <td>24.614359</td>\n",
              "      <td>...</td>\n",
              "      <td>0.000746</td>\n",
              "      <td>0.001166</td>\n",
              "      <td>0.001911</td>\n",
              "      <td>0.048531</td>\n",
              "      <td>0.028485</td>\n",
              "      <td>0.088531</td>\n",
              "      <td>0.086946</td>\n",
              "      <td>0.596690</td>\n",
              "      <td>1.118928</td>\n",
              "      <td>0.776224</td>\n",
              "    </tr>\n",
              "    <tr>\n",
              "      <th>std</th>\n",
              "      <td>0.432632</td>\n",
              "      <td>11.604658</td>\n",
              "      <td>0.493509</td>\n",
              "      <td>8.999214</td>\n",
              "      <td>11.373399</td>\n",
              "      <td>7.949191</td>\n",
              "      <td>20.650074</td>\n",
              "      <td>35.522436</td>\n",
              "      <td>10.310573</td>\n",
              "      <td>17.519969</td>\n",
              "      <td>...</td>\n",
              "      <td>0.027302</td>\n",
              "      <td>0.034120</td>\n",
              "      <td>0.043679</td>\n",
              "      <td>0.214891</td>\n",
              "      <td>0.166357</td>\n",
              "      <td>0.284073</td>\n",
              "      <td>0.281763</td>\n",
              "      <td>1.000908</td>\n",
              "      <td>1.623778</td>\n",
              "      <td>0.989428</td>\n",
              "    </tr>\n",
              "    <tr>\n",
              "      <th>min</th>\n",
              "      <td>0.000000</td>\n",
              "      <td>20.000000</td>\n",
              "      <td>0.000000</td>\n",
              "      <td>5.000000</td>\n",
              "      <td>80.000000</td>\n",
              "      <td>42.000000</td>\n",
              "      <td>40.000000</td>\n",
              "      <td>66.000000</td>\n",
              "      <td>2.000000</td>\n",
              "      <td>2.000000</td>\n",
              "      <td>...</td>\n",
              "      <td>0.000000</td>\n",
              "      <td>0.000000</td>\n",
              "      <td>0.000000</td>\n",
              "      <td>0.000000</td>\n",
              "      <td>0.000000</td>\n",
              "      <td>0.000000</td>\n",
              "      <td>0.000000</td>\n",
              "      <td>0.000000</td>\n",
              "      <td>0.000000</td>\n",
              "      <td>0.000000</td>\n",
              "    </tr>\n",
              "    <tr>\n",
              "      <th>25%</th>\n",
              "      <td>0.000000</td>\n",
              "      <td>33.000000</td>\n",
              "      <td>0.000000</td>\n",
              "      <td>73.000000</td>\n",
              "      <td>110.000000</td>\n",
              "      <td>70.000000</td>\n",
              "      <td>83.000000</td>\n",
              "      <td>167.000000</td>\n",
              "      <td>18.000000</td>\n",
              "      <td>14.000000</td>\n",
              "      <td>...</td>\n",
              "      <td>0.000000</td>\n",
              "      <td>0.000000</td>\n",
              "      <td>0.000000</td>\n",
              "      <td>0.000000</td>\n",
              "      <td>0.000000</td>\n",
              "      <td>0.000000</td>\n",
              "      <td>0.000000</td>\n",
              "      <td>0.000000</td>\n",
              "      <td>0.000000</td>\n",
              "      <td>0.000000</td>\n",
              "    </tr>\n",
              "    <tr>\n",
              "      <th>50%</th>\n",
              "      <td>0.000000</td>\n",
              "      <td>42.000000</td>\n",
              "      <td>1.000000</td>\n",
              "      <td>80.000000</td>\n",
              "      <td>120.000000</td>\n",
              "      <td>75.000000</td>\n",
              "      <td>91.000000</td>\n",
              "      <td>189.000000</td>\n",
              "      <td>22.000000</td>\n",
              "      <td>20.000000</td>\n",
              "      <td>...</td>\n",
              "      <td>0.000000</td>\n",
              "      <td>0.000000</td>\n",
              "      <td>0.000000</td>\n",
              "      <td>0.000000</td>\n",
              "      <td>0.000000</td>\n",
              "      <td>0.000000</td>\n",
              "      <td>0.000000</td>\n",
              "      <td>0.000000</td>\n",
              "      <td>0.000000</td>\n",
              "      <td>0.000000</td>\n",
              "    </tr>\n",
              "    <tr>\n",
              "      <th>75%</th>\n",
              "      <td>0.000000</td>\n",
              "      <td>51.000000</td>\n",
              "      <td>1.000000</td>\n",
              "      <td>86.000000</td>\n",
              "      <td>130.000000</td>\n",
              "      <td>80.000000</td>\n",
              "      <td>99.000000</td>\n",
              "      <td>213.000000</td>\n",
              "      <td>27.000000</td>\n",
              "      <td>29.000000</td>\n",
              "      <td>...</td>\n",
              "      <td>0.000000</td>\n",
              "      <td>0.000000</td>\n",
              "      <td>0.000000</td>\n",
              "      <td>0.000000</td>\n",
              "      <td>0.000000</td>\n",
              "      <td>0.000000</td>\n",
              "      <td>0.000000</td>\n",
              "      <td>1.000000</td>\n",
              "      <td>3.000000</td>\n",
              "      <td>1.000000</td>\n",
              "    </tr>\n",
              "    <tr>\n",
              "      <th>max</th>\n",
              "      <td>1.000000</td>\n",
              "      <td>69.000000</td>\n",
              "      <td>1.000000</td>\n",
              "      <td>122.000000</td>\n",
              "      <td>139.000000</td>\n",
              "      <td>89.000000</td>\n",
              "      <td>500.000000</td>\n",
              "      <td>468.000000</td>\n",
              "      <td>187.000000</td>\n",
              "      <td>198.000000</td>\n",
              "      <td>...</td>\n",
              "      <td>1.000000</td>\n",
              "      <td>1.000000</td>\n",
              "      <td>1.000000</td>\n",
              "      <td>1.000000</td>\n",
              "      <td>1.000000</td>\n",
              "      <td>1.000000</td>\n",
              "      <td>1.000000</td>\n",
              "      <td>4.000000</td>\n",
              "      <td>6.000000</td>\n",
              "      <td>4.000000</td>\n",
              "    </tr>\n",
              "  </tbody>\n",
              "</table>\n",
              "<p>8 rows × 22 columns</p>\n",
              "</div>"
            ],
            "text/plain": [
              "              HY_YN           AGE        gender         WAIST       BP_HIGH  \\\n",
              "count  21450.000000  21450.000000  21450.000000  21450.000000  21450.000000   \n",
              "mean       0.249324     42.605035      0.580373     79.591841    118.823730   \n",
              "std        0.432632     11.604658      0.493509      8.999214     11.373399   \n",
              "min        0.000000     20.000000      0.000000      5.000000     80.000000   \n",
              "25%        0.000000     33.000000      0.000000     73.000000    110.000000   \n",
              "50%        0.000000     42.000000      1.000000     80.000000    120.000000   \n",
              "75%        0.000000     51.000000      1.000000     86.000000    130.000000   \n",
              "max        1.000000     69.000000      1.000000    122.000000    139.000000   \n",
              "\n",
              "            BP_LWST          BLDS     TOT_CHOLE      SGOT_ASL      SGPT_ALT  \\\n",
              "count  21450.000000  21450.000000  21450.000000  21450.000000  21450.000000   \n",
              "mean      74.290676     93.945035    191.653800     24.089650     24.614359   \n",
              "std        7.949191     20.650074     35.522436     10.310573     17.519969   \n",
              "min       42.000000     40.000000     66.000000      2.000000      2.000000   \n",
              "25%       70.000000     83.000000    167.000000     18.000000     14.000000   \n",
              "50%       75.000000     91.000000    189.000000     22.000000     20.000000   \n",
              "75%       80.000000     99.000000    213.000000     27.000000     29.000000   \n",
              "max       89.000000    500.000000    468.000000    187.000000    198.000000   \n",
              "\n",
              "       ...     H_APOP_YN    H_HDISE_YN   H_DIABML_YN     F_APOP_YN  \\\n",
              "count  ...  21450.000000  21450.000000  21450.000000  21450.000000   \n",
              "mean   ...      0.000746      0.001166      0.001911      0.048531   \n",
              "std    ...      0.027302      0.034120      0.043679      0.214891   \n",
              "min    ...      0.000000      0.000000      0.000000      0.000000   \n",
              "25%    ...      0.000000      0.000000      0.000000      0.000000   \n",
              "50%    ...      0.000000      0.000000      0.000000      0.000000   \n",
              "75%    ...      0.000000      0.000000      0.000000      0.000000   \n",
              "max    ...      1.000000      1.000000      1.000000      1.000000   \n",
              "\n",
              "         F_HDISE_YN     F_HPRT_YN   F_DIABML_YN         DSQTY      SMK_TERM  \\\n",
              "count  21450.000000  21450.000000  21450.000000  21450.000000  21450.000000   \n",
              "mean       0.028485      0.088531      0.086946      0.596690      1.118928   \n",
              "std        0.166357      0.284073      0.281763      1.000908      1.623778   \n",
              "min        0.000000      0.000000      0.000000      0.000000      0.000000   \n",
              "25%        0.000000      0.000000      0.000000      0.000000      0.000000   \n",
              "50%        0.000000      0.000000      0.000000      0.000000      0.000000   \n",
              "75%        0.000000      0.000000      0.000000      1.000000      3.000000   \n",
              "max        1.000000      1.000000      1.000000      4.000000      6.000000   \n",
              "\n",
              "             EXER_M  \n",
              "count  21450.000000  \n",
              "mean       0.776224  \n",
              "std        0.989428  \n",
              "min        0.000000  \n",
              "25%        0.000000  \n",
              "50%        0.000000  \n",
              "75%        1.000000  \n",
              "max        4.000000  \n",
              "\n",
              "[8 rows x 22 columns]"
            ]
          },
          "execution_count": 61,
          "metadata": {},
          "output_type": "execute_result"
        }
      ],
      "source": [
        "dataset.describe()"
      ]
    },
    {
      "cell_type": "code",
      "execution_count": 87,
      "metadata": {},
      "outputs": [
        {
          "data": {
            "image/png": "[encoded data removed]",
            "text/plain": [
              "<Figure size 1152x648 with 2 Axes>"
            ]
          },
          "metadata": {
            "needs_background": "light"
          },
          "output_type": "display_data"
        }
      ],
      "source": [
        "#correlation between the features .Here classification type features gave been dropped.\n",
        "plt.figure(figsize=(16,9))\n",
        "x = dataset.drop(['HY_YN','gender','H_APOP_YN','H_HDISE_YN','H_DIABML_YN','F_APOP_YN','F_HDISE_YN','F_HPRT_YN','F_DIABML_YN','DSQTY','SMK_TERM','EXER_M'],axis = 1)\n",
        "ax = sns.heatmap(x.corr(),annot = True)\n",
        "plt.show()"
      ]
    },
    {
      "cell_type": "code",
      "execution_count": 62,
      "metadata": {},
      "outputs": [
        {
          "data": {
            "image/png": "[encoded data removed]",
            "text/plain": [
              "<Figure size 1008x432 with 1 Axes>"
            ]
          },
          "metadata": {
            "needs_background": "light"
          },
          "output_type": "display_data"
        }
      ],
      "source": [
        "#Which age group have maximum heart diseases?\n",
        "bins = [20, 25, 30, 35, 40, 45, 50, 55, 60, 65, 70, 75, 80, 85]\n",
        "plt.figure(figsize=(14, 6))\n",
        "sns.histplot(data=dataset, x=\"AGE\", kde=True, hue=\"HY_YN\", bins=bins);\n",
        "sns.despine(top=True, right=True)"
      ]
    },
    {
      "cell_type": "code",
      "execution_count": 70,
      "metadata": {},
      "outputs": [
        {
          "data": {
            "image/png": "[encoded data removed]",
            "text/plain": [
              "<Figure size 864x432 with 1 Axes>"
            ]
          },
          "metadata": {
            "needs_background": "light"
          },
          "output_type": "display_data"
        }
      ],
      "source": [
        "plt.figure(figsize=(12, 6))\n",
        "sns.countplot(data=dataset, x=\"gender\", hue=\"HY_YN\",palette=\"Set2\");\n",
        "sns.despine(top=True, right=True)"
      ]
    },
    {
      "cell_type": "code",
      "execution_count": 45,
      "metadata": {},
      "outputs": [
        {
          "data": {
            "text/plain": [
              "<seaborn.axisgrid.FacetGrid at 0x1c9e20fc730>"
            ]
          },
          "execution_count": 45,
          "metadata": {},
          "output_type": "execute_result"
        },
        {
          "data": {
            "image/png": "[encoded data removed]",
            "text/plain": [
              "<Figure size 402.375x360 with 1 Axes>"
            ]
          },
          "metadata": {
            "needs_background": "light"
          },
          "output_type": "display_data"
        }
      ],
      "source": [
        "#Showing the relation between number of days exercising in a week & chance of hypertention\n",
        "sns.catplot(y=\"EXER_M\", hue=\"HY_YN\", kind=\"count\",\n",
        "            palette=\"pastel\", edgecolor=\".6\",\n",
        "            data=dataset)"
      ]
    },
    {
      "cell_type": "code",
      "execution_count": 84,
      "metadata": {},
      "outputs": [
        {
          "data": {
            "image/png": "[encoded data removed]",
            "text/plain": [
              "<Figure size 1440x432 with 1 Axes>"
            ]
          },
          "metadata": {
            "needs_background": "light"
          },
          "output_type": "display_data"
        }
      ],
      "source": [
        "# Relation between HIgh BP rate & number of hypertension patient\n",
        "plt.figure(figsize=(20, 6))\n",
        "bins = [70, 80, 85,90,95, 100,105, 110,115, 120,125,130, 135, 140,145,150]\n",
        "sns.histplot(data=dataset, x=\"BP_HIGH\", bins=bins, hue=\"HY_YN\",color='gray', kde=True,\n",
        "                  line_kws= {'color':'blue','linestyle': 'dashed'},\n",
        "                  fill=True);\n",
        "sns.despine(top=True, right=True)"
      ]
    },
    {
      "cell_type": "code",
      "execution_count": 46,
      "metadata": {
        "id": "gs9ornpHtRde"
      },
      "outputs": [],
      "source": [
        "# using the replace() method\n",
        "\n",
        "dataset.replace(to_replace =\"Never\", \n",
        "                 value = 0, \n",
        "                  inplace = True)\n",
        "dataset.replace(to_replace =\"Once a week\", \n",
        "                 value = 1, \n",
        "                  inplace = True)\n",
        "dataset.replace(to_replace =\"2-3 a week\", \n",
        "                 value = 2, \n",
        "                  inplace = True)\n",
        "dataset.replace(to_replace =\">5 a week\", \n",
        "                 value = 3, \n",
        "                  inplace = True)\n",
        "dataset.replace(to_replace =\"4-5 a week\", \n",
        "                 value = 4, \n",
        "                  inplace = True)\n",
        "# writing  the dataframe to another csv file\n",
        "#dataset.to_csv('outputfile.csv', \n",
        "                 #index = False)"
      ]
    },
    {
      "cell_type": "code",
      "execution_count": 47,
      "metadata": {
        "colab": {
          "base_uri": "https://localhost:8080/",
          "height": 731
        },
        "id": "cVuYH29kulr-",
        "outputId": "ba46d9bd-6ac1-45ff-dfba-a483fe7b3d29"
      },
      "outputs": [
        {
          "data": {
            "text/html": [
              "<div>\n",
              "<style scoped>\n",
              "    .dataframe tbody tr th:only-of-type {\n",
              "        vertical-align: middle;\n",
              "    }\n",
              "\n",
              "    .dataframe tbody tr th {\n",
              "        vertical-align: top;\n",
              "    }\n",
              "\n",
              "    .dataframe thead th {\n",
              "        text-align: right;\n",
              "    }\n",
              "</style>\n",
              "<table border=\"1\" class=\"dataframe\">\n",
              "  <thead>\n",
              "    <tr style=\"text-align: right;\">\n",
              "      <th></th>\n",
              "      <th>HY_YN</th>\n",
              "      <th>AGE</th>\n",
              "      <th>gender</th>\n",
              "      <th>WAIST</th>\n",
              "      <th>BP_HIGH</th>\n",
              "      <th>BP_LWST</th>\n",
              "      <th>BLDS</th>\n",
              "      <th>TOT_CHOLE</th>\n",
              "      <th>SGOT_ASL</th>\n",
              "      <th>SGPT_ALT</th>\n",
              "      <th>...</th>\n",
              "      <th>H_APOP_YN</th>\n",
              "      <th>H_HDISE_YN</th>\n",
              "      <th>H_DIABML_YN</th>\n",
              "      <th>F_APOP_YN</th>\n",
              "      <th>F_HDISE_YN</th>\n",
              "      <th>F_HPRT_YN</th>\n",
              "      <th>F_DIABML_YN</th>\n",
              "      <th>DSQTY</th>\n",
              "      <th>SMK_TERM</th>\n",
              "      <th>EXER_M</th>\n",
              "    </tr>\n",
              "  </thead>\n",
              "  <tbody>\n",
              "    <tr>\n",
              "      <th>0</th>\n",
              "      <td>1</td>\n",
              "      <td>66</td>\n",
              "      <td>1</td>\n",
              "      <td>76.0</td>\n",
              "      <td>120.0</td>\n",
              "      <td>70.0</td>\n",
              "      <td>87.0</td>\n",
              "      <td>199.0</td>\n",
              "      <td>22.0</td>\n",
              "      <td>13.0</td>\n",
              "      <td>...</td>\n",
              "      <td>0</td>\n",
              "      <td>0</td>\n",
              "      <td>0</td>\n",
              "      <td>0</td>\n",
              "      <td>0</td>\n",
              "      <td>0</td>\n",
              "      <td>0</td>\n",
              "      <td>0</td>\n",
              "      <td>5</td>\n",
              "      <td>1</td>\n",
              "    </tr>\n",
              "    <tr>\n",
              "      <th>1</th>\n",
              "      <td>1</td>\n",
              "      <td>55</td>\n",
              "      <td>1</td>\n",
              "      <td>84.0</td>\n",
              "      <td>110.0</td>\n",
              "      <td>80.0</td>\n",
              "      <td>85.0</td>\n",
              "      <td>178.0</td>\n",
              "      <td>40.0</td>\n",
              "      <td>35.0</td>\n",
              "      <td>...</td>\n",
              "      <td>0</td>\n",
              "      <td>0</td>\n",
              "      <td>0</td>\n",
              "      <td>0</td>\n",
              "      <td>0</td>\n",
              "      <td>0</td>\n",
              "      <td>0</td>\n",
              "      <td>0</td>\n",
              "      <td>0</td>\n",
              "      <td>0</td>\n",
              "    </tr>\n",
              "    <tr>\n",
              "      <th>2</th>\n",
              "      <td>1</td>\n",
              "      <td>54</td>\n",
              "      <td>0</td>\n",
              "      <td>84.0</td>\n",
              "      <td>117.0</td>\n",
              "      <td>76.0</td>\n",
              "      <td>92.0</td>\n",
              "      <td>195.0</td>\n",
              "      <td>20.0</td>\n",
              "      <td>20.0</td>\n",
              "      <td>...</td>\n",
              "      <td>0</td>\n",
              "      <td>0</td>\n",
              "      <td>0</td>\n",
              "      <td>0</td>\n",
              "      <td>0</td>\n",
              "      <td>0</td>\n",
              "      <td>0</td>\n",
              "      <td>0</td>\n",
              "      <td>0</td>\n",
              "      <td>1</td>\n",
              "    </tr>\n",
              "    <tr>\n",
              "      <th>3</th>\n",
              "      <td>1</td>\n",
              "      <td>29</td>\n",
              "      <td>1</td>\n",
              "      <td>80.0</td>\n",
              "      <td>126.0</td>\n",
              "      <td>82.0</td>\n",
              "      <td>86.0</td>\n",
              "      <td>150.0</td>\n",
              "      <td>25.0</td>\n",
              "      <td>27.0</td>\n",
              "      <td>...</td>\n",
              "      <td>0</td>\n",
              "      <td>0</td>\n",
              "      <td>0</td>\n",
              "      <td>0</td>\n",
              "      <td>0</td>\n",
              "      <td>0</td>\n",
              "      <td>0</td>\n",
              "      <td>1</td>\n",
              "      <td>3</td>\n",
              "      <td>1</td>\n",
              "    </tr>\n",
              "    <tr>\n",
              "      <th>4</th>\n",
              "      <td>1</td>\n",
              "      <td>43</td>\n",
              "      <td>1</td>\n",
              "      <td>82.0</td>\n",
              "      <td>130.0</td>\n",
              "      <td>85.0</td>\n",
              "      <td>104.0</td>\n",
              "      <td>134.0</td>\n",
              "      <td>31.0</td>\n",
              "      <td>23.0</td>\n",
              "      <td>...</td>\n",
              "      <td>0</td>\n",
              "      <td>0</td>\n",
              "      <td>0</td>\n",
              "      <td>0</td>\n",
              "      <td>0</td>\n",
              "      <td>0</td>\n",
              "      <td>0</td>\n",
              "      <td>2</td>\n",
              "      <td>3</td>\n",
              "      <td>1</td>\n",
              "    </tr>\n",
              "  </tbody>\n",
              "</table>\n",
              "<p>5 rows × 22 columns</p>\n",
              "</div>"
            ],
            "text/plain": [
              "   HY_YN  AGE  gender  WAIST  BP_HIGH  BP_LWST   BLDS  TOT_CHOLE  SGOT_ASL  \\\n",
              "0      1   66       1   76.0    120.0     70.0   87.0      199.0      22.0   \n",
              "1      1   55       1   84.0    110.0     80.0   85.0      178.0      40.0   \n",
              "2      1   54       0   84.0    117.0     76.0   92.0      195.0      20.0   \n",
              "3      1   29       1   80.0    126.0     82.0   86.0      150.0      25.0   \n",
              "4      1   43       1   82.0    130.0     85.0  104.0      134.0      31.0   \n",
              "\n",
              "   SGPT_ALT  ...  H_APOP_YN  H_HDISE_YN  H_DIABML_YN  F_APOP_YN  F_HDISE_YN  \\\n",
              "0      13.0  ...          0           0            0          0           0   \n",
              "1      35.0  ...          0           0            0          0           0   \n",
              "2      20.0  ...          0           0            0          0           0   \n",
              "3      27.0  ...          0           0            0          0           0   \n",
              "4      23.0  ...          0           0            0          0           0   \n",
              "\n",
              "   F_HPRT_YN  F_DIABML_YN  DSQTY  SMK_TERM  EXER_M  \n",
              "0          0            0      0         5       1  \n",
              "1          0            0      0         0       0  \n",
              "2          0            0      0         0       1  \n",
              "3          0            0      1         3       1  \n",
              "4          0            0      2         3       1  \n",
              "\n",
              "[5 rows x 22 columns]"
            ]
          },
          "execution_count": 47,
          "metadata": {},
          "output_type": "execute_result"
        }
      ],
      "source": [
        "dataset.head()"
      ]
    },
    {
      "cell_type": "code",
      "execution_count": 48,
      "metadata": {
        "id": "cE-rg0HVXAcn"
      },
      "outputs": [
        {
          "name": "stdout",
          "output_type": "stream",
          "text": [
            "(21450,)\n"
          ]
        }
      ],
      "source": [
        "x1 = dataset.drop(['HY_YN'], axis=1)\n",
        "y1 = dataset['HY_YN']\n",
        "print(y1.shape)"
      ]
    },
    {
      "cell_type": "code",
      "execution_count": 49,
      "metadata": {
        "id": "okrAvubvVzcA"
      },
      "outputs": [],
      "source": [
        "#x1 = dataset.drop(['prevalentHyp'], axis=1)\n",
        "#y1 = dataset['prevalentHyp']"
      ]
    },
    {
      "cell_type": "markdown",
      "metadata": {},
      "source": [
        "Best Features selection using pearson correlation coeff. formula"
      ]
    },
    {
      "cell_type": "code",
      "execution_count": 79,
      "metadata": {
        "colab": {
          "base_uri": "https://localhost:8080/"
        },
        "id": "kBO6dcAElwOe",
        "outputId": "e94df5fe-286b-473c-ceb0-e8e30036945d"
      },
      "outputs": [
        {
          "name": "stdout",
          "output_type": "stream",
          "text": [
            "AGE:0.16814007150697227\n",
            "gender:0.17974887603452058\n",
            "WAIST:0.2378064483016276\n",
            "BP_HIGH:0.3140306454066983\n",
            "BP_LWST:0.29715395238109077\n",
            "BLDS:0.08396159372985644\n",
            "TOT_CHOLE:0.11079499351201344\n",
            "SGOT_ASL:0.11732736742776402\n",
            "SGPT_ALT:0.12562921808419383\n",
            "GAMMA_GTP:0.16079333376237182\n",
            "HMG:0.15223765860829663\n",
            "H_APOP_YN:0.0039898091788405105\n",
            "H_HDISE_YN:0.011897215567133846\n",
            "H_DIABML_YN:0.01178750425339605\n",
            "F_APOP_YN:0.01677643575936807\n",
            "F_HDISE_YN:0.010146317116308815\n",
            "F_HPRT_YN:0.008548252564424935\n",
            "F_DIABML_YN:-0.005732857895305629\n",
            "DSQTY:0.06921897659045782\n",
            "SMK_TERM:0.10001237504227234\n",
            "EXER_M:0.038529490068535566\n",
            "21 selected features\n"
          ]
        },
        {
          "data": {
            "text/plain": [
              "Text(0.05, 1.02, 'Correlation of features with target')"
            ]
          },
          "execution_count": 79,
          "metadata": {},
          "output_type": "execute_result"
        },
        {
          "data": {
            "image/png": "[encoded data removed]",
            "text/plain": [
              "<Figure size 1080x432 with 1 Axes>"
            ]
          },
          "metadata": {
            "needs_background": "light"
          },
          "output_type": "display_data"
        }
      ],
      "source": [
        "X_train = x1\n",
        "y_train = y1\n",
        "feature_name = list(X_train.columns)\n",
        "# no of maximum features we need to select\n",
        "num_feats =21\n",
        "#Here pearson correlation coefficient formula have been used in the defined function to find correlation of every field with target field in order to make a list of field only which have correlation with the target feild.\n",
        "def cor_selector(X_train, y_train,num_feats):\n",
        "    cor_list = []\n",
        "    feature_name = X_train.columns.tolist()\n",
        "    # calculate the correlation with y for each feature\n",
        "    for i in X_train.columns.tolist():\n",
        "        cor = np.corrcoef(X_train[i], y_train)[0, 1]\n",
        "        cor_list.append(cor)    \n",
        "    # replace NaN with 0\n",
        "    cor_list = [0 if np.isnan(i) else i for i in cor_list]\n",
        "    for i in range(len(feature_name)):\n",
        "        print(feature_name[i]+\":\"+str(cor_list[i]))\n",
        "    # feature name\n",
        "    cor_feature = X_train.iloc[:,np.argsort(np.abs(cor_list))[-num_feats:]].columns.tolist()\n",
        "    # feature selection? 0 for not select, 1 for select\n",
        "    cor_support = [True if i in cor_feature else False for i in feature_name]\n",
        "    return cor_support, cor_feature,cor_list\n",
        "cor_support, cor_feature ,cor_list = cor_selector(X_train, y_train,num_feats)\n",
        "print(str(len(cor_feature)), 'selected features')\n",
        "\n",
        "plt.figure(figsize=(15, 6))\n",
        "ax = sns.barplot(x=cor_list, y=feature_name,palette='viridis', alpha=0.75)\n",
        "ax.grid()\n",
        "#ax.set_title(\"Correlation of numerical features with Target\", fontsize=20, y=1.05)\n",
        "title =  'Correlation of features with target'\n",
        "plt.gcf().text(0.05, 1.02, title, fontsize=20)\n",
        "#plt.gcf().text(0.05, 0.9, sub_title, fontsize=14)"
      ]
    },
    {
      "cell_type": "code",
      "execution_count": 19,
      "metadata": {
        "colab": {
          "base_uri": "https://localhost:8080/"
        },
        "id": "pjj3rUHRnuQD",
        "outputId": "8c5e4fc1-78a9-43df-b015-225cf8c79652"
      },
      "outputs": [
        {
          "data": {
            "text/plain": [
              "['H_APOP_YN',\n",
              " 'F_DIABML_YN',\n",
              " 'F_HPRT_YN',\n",
              " 'F_HDISE_YN',\n",
              " 'H_DIABML_YN',\n",
              " 'H_HDISE_YN',\n",
              " 'F_APOP_YN',\n",
              " 'EXER_M',\n",
              " 'DSQTY',\n",
              " 'BLDS',\n",
              " 'SMK_TERM',\n",
              " 'TOT_CHOLE',\n",
              " 'SGOT_ASL',\n",
              " 'SGPT_ALT',\n",
              " 'HMG',\n",
              " 'GAMMA_GTP',\n",
              " 'AGE',\n",
              " 'gender',\n",
              " 'WAIST',\n",
              " 'BP_LWST',\n",
              " 'BP_HIGH']"
            ]
          },
          "execution_count": 19,
          "metadata": {},
          "output_type": "execute_result"
        }
      ],
      "source": [
        "cor_feature\n"
      ]
    },
    {
      "cell_type": "markdown",
      "metadata": {},
      "source": [
        "Best features selection using SelectKbest method"
      ]
    },
    {
      "cell_type": "code",
      "execution_count": 20,
      "metadata": {
        "colab": {
          "base_uri": "https://localhost:8080/"
        },
        "id": "RIR2JNIZoxtG",
        "outputId": "7363c73f-a9c3-4021-9841-616003fb919f"
      },
      "outputs": [
        {
          "data": {
            "image/png": "[encoded data removed]",
            "text/plain": [
              "<Figure size 432x288 with 1 Axes>"
            ]
          },
          "metadata": {
            "needs_background": "light"
          },
          "output_type": "display_data"
        },
        {
          "name": "stdout",
          "output_type": "stream",
          "text": [
            "21 selected features\n"
          ]
        }
      ],
      "source": [
        "X_norm = MinMaxScaler().fit_transform(X_train)\n",
        "chi_selector = SelectKBest(chi2, k=num_feats)\n",
        "chi_selector = chi_selector.fit(X_norm, y_train)\n",
        "chi_scores = pd.DataFrame(chi_selector.scores_)[0].to_list()\n",
        "chi_columns = pd.DataFrame(X_train.columns)[0].to_list()\n",
        "plt.barh(chi_columns,chi_scores)\n",
        "plt.show()\n",
        "chi_support = chi_selector.get_support()\n",
        "chi_feature = X_train.loc[:,chi_support].columns.tolist()\n",
        "print(str(len(chi_feature)), 'selected features')"
      ]
    },
    {
      "cell_type": "markdown",
      "metadata": {},
      "source": [
        "Best features selection using RFE method"
      ]
    },
    {
      "cell_type": "code",
      "execution_count": 21,
      "metadata": {
        "colab": {
          "base_uri": "https://localhost:8080/"
        },
        "id": "hJqEXQVOpdqV",
        "outputId": "b13be78e-77d2-40e1-de3f-e4532ddb5517"
      },
      "outputs": [
        {
          "name": "stdout",
          "output_type": "stream",
          "text": [
            "21 selected features\n"
          ]
        }
      ],
      "source": [
        "rfe_selector = RFE(estimator=LogisticRegression(), n_features_to_select=num_feats, step=10, verbose=5)\n",
        "rfe_selector.fit(X_norm, y_train)\n",
        "rfe_support = rfe_selector.get_support()\n",
        "rfe_feature = X_train.loc[:,rfe_support].columns.tolist()\n",
        "print(str(len(rfe_feature)), 'selected features')"
      ]
    },
    {
      "cell_type": "markdown",
      "metadata": {},
      "source": [
        "Best feature selection using SelectFromModel method"
      ]
    },
    {
      "cell_type": "code",
      "execution_count": 22,
      "metadata": {
        "colab": {
          "base_uri": "https://localhost:8080/"
        },
        "id": "NA7BrwTLpk5d",
        "outputId": "a6c6fe25-54a1-4b09-d0e7-76c3b4a99351"
      },
      "outputs": [
        {
          "name": "stdout",
          "output_type": "stream",
          "text": [
            "8 selected features\n"
          ]
        },
        {
          "data": {
            "text/plain": [
              "['AGE',\n",
              " 'WAIST',\n",
              " 'BP_HIGH',\n",
              " 'BP_LWST',\n",
              " 'TOT_CHOLE',\n",
              " 'SGOT_ASL',\n",
              " 'GAMMA_GTP',\n",
              " 'HMG']"
            ]
          },
          "execution_count": 22,
          "metadata": {},
          "output_type": "execute_result"
        }
      ],
      "source": [
        "from sklearn.feature_selection import SelectFromModel\n",
        "embeded_lr_selector = SelectFromModel(LogisticRegression(penalty=\"l2\"), max_features=num_feats)\n",
        "embeded_lr_selector.fit(X_norm, y_train)\n",
        "embeded_lr_support = embeded_lr_selector.get_support()\n",
        "embeded_lr_feature = X_train.loc[:,embeded_lr_support].columns.tolist()\n",
        "print(str(len(embeded_lr_feature)), 'selected features')\n",
        "embeded_lr_feature"
      ]
    },
    {
      "cell_type": "code",
      "execution_count": 23,
      "metadata": {
        "colab": {
          "base_uri": "https://localhost:8080/"
        },
        "id": "wzOJy3HWp7e3",
        "outputId": "d01f349c-16e8-403d-8c28-bb77dfc706ca"
      },
      "outputs": [
        {
          "name": "stdout",
          "output_type": "stream",
          "text": [
            "10 selected features\n"
          ]
        },
        {
          "data": {
            "text/plain": [
              "['AGE',\n",
              " 'WAIST',\n",
              " 'BP_HIGH',\n",
              " 'BP_LWST',\n",
              " 'BLDS',\n",
              " 'TOT_CHOLE',\n",
              " 'SGOT_ASL',\n",
              " 'SGPT_ALT',\n",
              " 'GAMMA_GTP',\n",
              " 'HMG']"
            ]
          },
          "execution_count": 23,
          "metadata": {},
          "output_type": "execute_result"
        }
      ],
      "source": [
        "embeded_rf_selector = SelectFromModel(RandomForestClassifier(n_estimators=100), max_features=num_feats)\n",
        "embeded_rf_selector.fit(X_train, y_train)\n",
        "embeded_rf_support = embeded_rf_selector.get_support()\n",
        "embeded_rf_feature = X_train.loc[:,embeded_rf_support].columns.tolist()\n",
        "print(str(len(embeded_rf_feature)), 'selected features')\n",
        "embeded_rf_feature"
      ]
    },
    {
      "cell_type": "markdown",
      "metadata": {},
      "source": [
        "Best feature selection using LGBMClassifier method"
      ]
    },
    {
      "cell_type": "code",
      "execution_count": 24,
      "metadata": {
        "colab": {
          "base_uri": "https://localhost:8080/"
        },
        "id": "rhWdFey9qRoi",
        "outputId": "3e7d5adf-3646-4ef7-80f4-0e3f6ca7a119"
      },
      "outputs": [
        {
          "name": "stdout",
          "output_type": "stream",
          "text": [
            "8 selected features\n"
          ]
        },
        {
          "data": {
            "text/plain": [
              "['AGE', 'WAIST', 'BP_LWST', 'BLDS', 'TOT_CHOLE', 'SGOT_ASL', 'SGPT_ALT', 'HMG']"
            ]
          },
          "execution_count": 24,
          "metadata": {},
          "output_type": "execute_result"
        }
      ],
      "source": [
        "lgbc=LGBMClassifier(n_estimators=500, learning_rate=0.05, num_leaves=32, colsample_bytree=0.2,\n",
        "            reg_alpha=3, reg_lambda=1, min_split_gain=0.01, min_child_weight=40)\n",
        "embeded_lgb_selector = SelectFromModel(lgbc, max_features=num_feats)\n",
        "embeded_lgb_selector.fit(X_train, y_train)\n",
        "embeded_lgb_support = embeded_lgb_selector.get_support()\n",
        "embeded_lgb_feature = X_train.loc[:,embeded_lgb_support].columns.tolist()\n",
        "print(str(len(embeded_lgb_feature)), 'selected features')\n",
        "embeded_lgb_feature"
      ]
    },
    {
      "cell_type": "code",
      "execution_count": 25,
      "metadata": {
        "colab": {
          "base_uri": "https://localhost:8080/",
          "height": 700
        },
        "id": "47EoVD9Sq5IV",
        "outputId": "a5656634-fb17-4f32-8b37-fc2dbfcd6f3a"
      },
      "outputs": [
        {
          "name": "stderr",
          "output_type": "stream",
          "text": [
            "c:\\Users\\USER\\AppData\\Local\\Programs\\Python\\Python310\\lib\\site-packages\\numpy\\core\\fromnumeric.py:84: FutureWarning: Dropping of nuisance columns in DataFrame reductions (with 'numeric_only=None') is deprecated; in a future version this will raise TypeError.  Select only valid columns before calling the reduction.\n",
            "  return reduction(axis=axis, out=out, **passkwargs)\n"
          ]
        },
        {
          "data": {
            "text/html": [
              "<div>\n",
              "<style scoped>\n",
              "    .dataframe tbody tr th:only-of-type {\n",
              "        vertical-align: middle;\n",
              "    }\n",
              "\n",
              "    .dataframe tbody tr th {\n",
              "        vertical-align: top;\n",
              "    }\n",
              "\n",
              "    .dataframe thead th {\n",
              "        text-align: right;\n",
              "    }\n",
              "</style>\n",
              "<table border=\"1\" class=\"dataframe\">\n",
              "  <thead>\n",
              "    <tr style=\"text-align: right;\">\n",
              "      <th></th>\n",
              "      <th>Feature</th>\n",
              "      <th>Pearson</th>\n",
              "      <th>Chi-2</th>\n",
              "      <th>RFE</th>\n",
              "      <th>Logistics</th>\n",
              "      <th>Random Forest</th>\n",
              "      <th>LightGBM</th>\n",
              "      <th>Total</th>\n",
              "    </tr>\n",
              "  </thead>\n",
              "  <tbody>\n",
              "    <tr>\n",
              "      <th>1</th>\n",
              "      <td>WAIST</td>\n",
              "      <td>True</td>\n",
              "      <td>True</td>\n",
              "      <td>True</td>\n",
              "      <td>True</td>\n",
              "      <td>True</td>\n",
              "      <td>True</td>\n",
              "      <td>6</td>\n",
              "    </tr>\n",
              "    <tr>\n",
              "      <th>2</th>\n",
              "      <td>TOT_CHOLE</td>\n",
              "      <td>True</td>\n",
              "      <td>True</td>\n",
              "      <td>True</td>\n",
              "      <td>True</td>\n",
              "      <td>True</td>\n",
              "      <td>True</td>\n",
              "      <td>6</td>\n",
              "    </tr>\n",
              "    <tr>\n",
              "      <th>3</th>\n",
              "      <td>SGOT_ASL</td>\n",
              "      <td>True</td>\n",
              "      <td>True</td>\n",
              "      <td>True</td>\n",
              "      <td>True</td>\n",
              "      <td>True</td>\n",
              "      <td>True</td>\n",
              "      <td>6</td>\n",
              "    </tr>\n",
              "    <tr>\n",
              "      <th>4</th>\n",
              "      <td>HMG</td>\n",
              "      <td>True</td>\n",
              "      <td>True</td>\n",
              "      <td>True</td>\n",
              "      <td>True</td>\n",
              "      <td>True</td>\n",
              "      <td>True</td>\n",
              "      <td>6</td>\n",
              "    </tr>\n",
              "    <tr>\n",
              "      <th>5</th>\n",
              "      <td>BP_LWST</td>\n",
              "      <td>True</td>\n",
              "      <td>True</td>\n",
              "      <td>True</td>\n",
              "      <td>True</td>\n",
              "      <td>True</td>\n",
              "      <td>True</td>\n",
              "      <td>6</td>\n",
              "    </tr>\n",
              "    <tr>\n",
              "      <th>6</th>\n",
              "      <td>AGE</td>\n",
              "      <td>True</td>\n",
              "      <td>True</td>\n",
              "      <td>True</td>\n",
              "      <td>True</td>\n",
              "      <td>True</td>\n",
              "      <td>True</td>\n",
              "      <td>6</td>\n",
              "    </tr>\n",
              "    <tr>\n",
              "      <th>7</th>\n",
              "      <td>SGPT_ALT</td>\n",
              "      <td>True</td>\n",
              "      <td>True</td>\n",
              "      <td>True</td>\n",
              "      <td>False</td>\n",
              "      <td>True</td>\n",
              "      <td>True</td>\n",
              "      <td>5</td>\n",
              "    </tr>\n",
              "    <tr>\n",
              "      <th>8</th>\n",
              "      <td>GAMMA_GTP</td>\n",
              "      <td>True</td>\n",
              "      <td>True</td>\n",
              "      <td>True</td>\n",
              "      <td>True</td>\n",
              "      <td>True</td>\n",
              "      <td>False</td>\n",
              "      <td>5</td>\n",
              "    </tr>\n",
              "    <tr>\n",
              "      <th>9</th>\n",
              "      <td>BP_HIGH</td>\n",
              "      <td>True</td>\n",
              "      <td>True</td>\n",
              "      <td>True</td>\n",
              "      <td>True</td>\n",
              "      <td>True</td>\n",
              "      <td>False</td>\n",
              "      <td>5</td>\n",
              "    </tr>\n",
              "    <tr>\n",
              "      <th>10</th>\n",
              "      <td>BLDS</td>\n",
              "      <td>True</td>\n",
              "      <td>True</td>\n",
              "      <td>True</td>\n",
              "      <td>False</td>\n",
              "      <td>True</td>\n",
              "      <td>True</td>\n",
              "      <td>5</td>\n",
              "    </tr>\n",
              "    <tr>\n",
              "      <th>11</th>\n",
              "      <td>gender</td>\n",
              "      <td>True</td>\n",
              "      <td>True</td>\n",
              "      <td>True</td>\n",
              "      <td>False</td>\n",
              "      <td>False</td>\n",
              "      <td>False</td>\n",
              "      <td>3</td>\n",
              "    </tr>\n",
              "    <tr>\n",
              "      <th>12</th>\n",
              "      <td>SMK_TERM</td>\n",
              "      <td>True</td>\n",
              "      <td>True</td>\n",
              "      <td>True</td>\n",
              "      <td>False</td>\n",
              "      <td>False</td>\n",
              "      <td>False</td>\n",
              "      <td>3</td>\n",
              "    </tr>\n",
              "    <tr>\n",
              "      <th>13</th>\n",
              "      <td>H_HDISE_YN</td>\n",
              "      <td>True</td>\n",
              "      <td>True</td>\n",
              "      <td>True</td>\n",
              "      <td>False</td>\n",
              "      <td>False</td>\n",
              "      <td>False</td>\n",
              "      <td>3</td>\n",
              "    </tr>\n",
              "    <tr>\n",
              "      <th>14</th>\n",
              "      <td>H_DIABML_YN</td>\n",
              "      <td>True</td>\n",
              "      <td>True</td>\n",
              "      <td>True</td>\n",
              "      <td>False</td>\n",
              "      <td>False</td>\n",
              "      <td>False</td>\n",
              "      <td>3</td>\n",
              "    </tr>\n",
              "    <tr>\n",
              "      <th>15</th>\n",
              "      <td>H_APOP_YN</td>\n",
              "      <td>True</td>\n",
              "      <td>True</td>\n",
              "      <td>True</td>\n",
              "      <td>False</td>\n",
              "      <td>False</td>\n",
              "      <td>False</td>\n",
              "      <td>3</td>\n",
              "    </tr>\n",
              "    <tr>\n",
              "      <th>16</th>\n",
              "      <td>F_HPRT_YN</td>\n",
              "      <td>True</td>\n",
              "      <td>True</td>\n",
              "      <td>True</td>\n",
              "      <td>False</td>\n",
              "      <td>False</td>\n",
              "      <td>False</td>\n",
              "      <td>3</td>\n",
              "    </tr>\n",
              "    <tr>\n",
              "      <th>17</th>\n",
              "      <td>F_HDISE_YN</td>\n",
              "      <td>True</td>\n",
              "      <td>True</td>\n",
              "      <td>True</td>\n",
              "      <td>False</td>\n",
              "      <td>False</td>\n",
              "      <td>False</td>\n",
              "      <td>3</td>\n",
              "    </tr>\n",
              "    <tr>\n",
              "      <th>18</th>\n",
              "      <td>F_DIABML_YN</td>\n",
              "      <td>True</td>\n",
              "      <td>True</td>\n",
              "      <td>True</td>\n",
              "      <td>False</td>\n",
              "      <td>False</td>\n",
              "      <td>False</td>\n",
              "      <td>3</td>\n",
              "    </tr>\n",
              "    <tr>\n",
              "      <th>19</th>\n",
              "      <td>F_APOP_YN</td>\n",
              "      <td>True</td>\n",
              "      <td>True</td>\n",
              "      <td>True</td>\n",
              "      <td>False</td>\n",
              "      <td>False</td>\n",
              "      <td>False</td>\n",
              "      <td>3</td>\n",
              "    </tr>\n",
              "    <tr>\n",
              "      <th>20</th>\n",
              "      <td>EXER_M</td>\n",
              "      <td>True</td>\n",
              "      <td>True</td>\n",
              "      <td>True</td>\n",
              "      <td>False</td>\n",
              "      <td>False</td>\n",
              "      <td>False</td>\n",
              "      <td>3</td>\n",
              "    </tr>\n",
              "    <tr>\n",
              "      <th>21</th>\n",
              "      <td>DSQTY</td>\n",
              "      <td>True</td>\n",
              "      <td>True</td>\n",
              "      <td>True</td>\n",
              "      <td>False</td>\n",
              "      <td>False</td>\n",
              "      <td>False</td>\n",
              "      <td>3</td>\n",
              "    </tr>\n",
              "  </tbody>\n",
              "</table>\n",
              "</div>"
            ],
            "text/plain": [
              "        Feature  Pearson  Chi-2   RFE  Logistics  Random Forest  LightGBM  \\\n",
              "1         WAIST     True   True  True       True           True      True   \n",
              "2     TOT_CHOLE     True   True  True       True           True      True   \n",
              "3      SGOT_ASL     True   True  True       True           True      True   \n",
              "4           HMG     True   True  True       True           True      True   \n",
              "5       BP_LWST     True   True  True       True           True      True   \n",
              "6           AGE     True   True  True       True           True      True   \n",
              "7      SGPT_ALT     True   True  True      False           True      True   \n",
              "8     GAMMA_GTP     True   True  True       True           True     False   \n",
              "9       BP_HIGH     True   True  True       True           True     False   \n",
              "10         BLDS     True   True  True      False           True      True   \n",
              "11       gender     True   True  True      False          False     False   \n",
              "12     SMK_TERM     True   True  True      False          False     False   \n",
              "13   H_HDISE_YN     True   True  True      False          False     False   \n",
              "14  H_DIABML_YN     True   True  True      False          False     False   \n",
              "15    H_APOP_YN     True   True  True      False          False     False   \n",
              "16    F_HPRT_YN     True   True  True      False          False     False   \n",
              "17   F_HDISE_YN     True   True  True      False          False     False   \n",
              "18  F_DIABML_YN     True   True  True      False          False     False   \n",
              "19    F_APOP_YN     True   True  True      False          False     False   \n",
              "20       EXER_M     True   True  True      False          False     False   \n",
              "21        DSQTY     True   True  True      False          False     False   \n",
              "\n",
              "    Total  \n",
              "1       6  \n",
              "2       6  \n",
              "3       6  \n",
              "4       6  \n",
              "5       6  \n",
              "6       6  \n",
              "7       5  \n",
              "8       5  \n",
              "9       5  \n",
              "10      5  \n",
              "11      3  \n",
              "12      3  \n",
              "13      3  \n",
              "14      3  \n",
              "15      3  \n",
              "16      3  \n",
              "17      3  \n",
              "18      3  \n",
              "19      3  \n",
              "20      3  \n",
              "21      3  "
            ]
          },
          "execution_count": 25,
          "metadata": {},
          "output_type": "execute_result"
        }
      ],
      "source": [
        "pd.set_option('display.max_rows', None)\n",
        "# put all selection together\n",
        "feature_selection_df = pd.DataFrame({'Feature':feature_name, 'Pearson':cor_support, 'Chi-2':chi_support, 'RFE':rfe_support, 'Logistics':embeded_lr_support,\n",
        "                                    'Random Forest':embeded_rf_support, 'LightGBM':embeded_lgb_support})\n",
        "# count the selected times for each feature\n",
        "feature_selection_df['Total'] = np.sum(feature_selection_df, axis=1)\n",
        "# display the top feature\n",
        "feature_selection_df = feature_selection_df.sort_values(['Total','Feature'] , ascending=False)\n",
        "feature_selection_df.index = range(1, len(feature_selection_df)+1)\n",
        "feature_selection_df.head(num_feats)"
      ]
    },
    {
      "cell_type": "code",
      "execution_count": 26,
      "metadata": {
        "id": "dT2ImEQ3G0qD"
      },
      "outputs": [],
      "source": [
        "#all -> 'AGE', 'gender', 'WAIST', 'BP_HIGH', 'BP_LWST', 'BLDS','TOT_CHOLE', 'SGOT_ASL', 'SGPT_ALT', 'GAMMA_GTP', 'HMG', 'H_APOP_YN', 'H_HDISE_YN', 'H_DIABML_YN', 'F_APOP_YN', 'F_HDISE_YN', 'F_HPRT_YN','F_DIABML_YN', 'DSQTY', 'SMK_TERM', 'EXER_M' \n",
        "#8   -> 'AGE', 'WAIST','BP_HIGH','BP_LWST','TOT_CHOLE','SGOT_ASL','GAMMA_GTP','HMG'\n",
        "#10  -> 'AGE','WAIST','BP_HIGH','BP_LWST','BLDS','TOT_CHOLE','SGOT_ASL','SGPT_ALT','GAMMA_GTP','HMG'\n",
        "\n",
        "#10\n",
        "#x1 = dataset.drop(['HY_YN','gender','H_APOP_YN',\n",
        "#       'H_HDISE_YN', 'H_DIABML_YN', 'F_APOP_YN', 'F_HDISE_YN', 'F_HPRT_YN',\n",
        "#      'F_DIABML_YN', 'DSQTY', 'SMK_TERM', 'EXER_M'], axis=1)\n",
        "\n",
        "#8\n",
        "#x1 = dataset.drop(['HY_YN','gender','BLDS','H_APOP_YN',\n",
        "#      'H_HDISE_YN', 'H_DIABML_YN', 'F_APOP_YN', 'F_HDISE_YN', 'F_HPRT_YN',\n",
        "#      'F_DIABML_YN', 'SGOT_ASL' , 'DSQTY', 'SMK_TERM', 'EXER_M'], axis=1)\n",
        "\n",
        "#all\n",
        "x1 = dataset.drop(['HY_YN'], axis=1)\n",
        "\n",
        "y1 = dataset['HY_YN']"
      ]
    },
    {
      "cell_type": "code",
      "execution_count": 28,
      "metadata": {
        "id": "cIxP4iwXc_tX"
      },
      "outputs": [
        {
          "data": {
            "text/plain": [
              "array([[0.93877551, 1.        , 0.60683761, ..., 0.        , 0.83333333,\n",
              "        0.25      ],\n",
              "       [0.71428571, 1.        , 0.67521368, ..., 0.        , 0.        ,\n",
              "        0.        ],\n",
              "       [0.69387755, 0.        , 0.67521368, ..., 0.        , 0.        ,\n",
              "        0.25      ],\n",
              "       ...,\n",
              "       [0.44897959, 1.        , 0.56410256, ..., 0.5       , 0.66666667,\n",
              "        0.        ],\n",
              "       [0.28571429, 0.        , 0.4957265 , ..., 0.        , 0.        ,\n",
              "        0.25      ],\n",
              "       [0.63265306, 0.        , 0.66666667, ..., 0.25      , 0.16666667,\n",
              "        0.        ]])"
            ]
          },
          "execution_count": 28,
          "metadata": {},
          "output_type": "execute_result"
        }
      ],
      "source": [
        "#Normalize X data \n",
        "from sklearn.preprocessing import MinMaxScaler\n",
        "scaler = MinMaxScaler()\n",
        "x3 = scaler.fit_transform(x1)\n",
        "x3"
      ]
    },
    {
      "cell_type": "markdown",
      "metadata": {},
      "source": [
        "Handling imbalanced dataset using over-sampling "
      ]
    },
    {
      "cell_type": "code",
      "execution_count": 30,
      "metadata": {
        "colab": {
          "base_uri": "https://localhost:8080/"
        },
        "id": "617cVfiedC5B",
        "outputId": "60b0c6a1-e0a7-438d-9cd6-291b1bb5adf3"
      },
      "outputs": [],
      "source": [
        "#Handing imbalanced dataset using over-sampling \n",
        "from imblearn.over_sampling import SMOTE\n",
        "from collections import Counter\n",
        "oversample = SMOTE()\n",
        "x_smote, y_smote = oversample.fit_resample(x3, y1)\n",
        "#Xtrain, Xtest, ytrain, ytest = train_test_split(x_smote, y_smote, test_size=0.20, random_state=42)"
      ]
    },
    {
      "cell_type": "code",
      "execution_count": 41,
      "metadata": {
        "colab": {
          "base_uri": "https://localhost:8080/"
        },
        "id": "qIXiq5fAskcD",
        "outputId": "2c3a1d89-7fb1-4ebb-b3b8-06f2220e2a1e"
      },
      "outputs": [
        {
          "name": "stdout",
          "output_type": "stream",
          "text": [
            "The number of hypertension & non-hypertension from target field before fit Counter({0: 16102, 1: 5348})\n",
            "The number of hypertension & non-hypertension from target field after fit Counter({1: 16102, 0: 16102})\n",
            "size of X_norm :(21450, 21)\n",
            "size of x_smote :(32204, 21)\n",
            "size of y_smote :(32204,)\n"
          ]
        }
      ],
      "source": [
        "print(\"The number of hypertension & non-hypertension from target field before fit {}\".format(Counter(y1)))\n",
        "print(\"The number of hypertension & non-hypertension from target field after fit {}\".format(Counter(y_smote)))\n",
        "print(\"size of X_norm :\"+str(X_norm.shape))\n",
        "print(\"size of x_smote :\"+str(x_smote.shape))\n",
        "print(\"size of y_smote :\"+str(y_smote.shape))"
      ]
    },
    {
      "cell_type": "code",
      "execution_count": 40,
      "metadata": {
        "id": "hK-32At8xbAJ"
      },
      "outputs": [],
      "source": [
        "#train data test data split\n",
        "X_train, X_test, y_train, y_test = train_test_split(x_smote, y_smote, test_size = 0.20, random_state=42)"
      ]
    },
    {
      "cell_type": "markdown",
      "metadata": {},
      "source": [
        "Classify data with SVM(Support Vector Machine)"
      ]
    },
    {
      "cell_type": "code",
      "execution_count": 43,
      "metadata": {
        "colab": {
          "base_uri": "https://localhost:8080/"
        },
        "id": "4Zn-EoMvL42v",
        "outputId": "ad6f7fe1-9cb7-4e33-867e-3e669f2a434c"
      },
      "outputs": [
        {
          "name": "stdout",
          "output_type": "stream",
          "text": [
            "[ 0.94027644  0.78081959 -1.61181156 ...  0.73737679  0.07727634\n",
            " -1.02480984]\n"
          ]
        }
      ],
      "source": [
        "# SVM\n",
        "base_learners = [\n",
        "                 ('svm', SVC()),        \n",
        "                ]\n",
        "\n",
        "# Initialize Stacking Classifier with the Meta Learner\n",
        "svm = StackingClassifier(estimators=base_learners, \n",
        "                         #final_estimator = SVC(),\n",
        "                         cv = 10)\n",
        "\n",
        "# Extract score\n",
        "#X_train, X_test, y_train, y_test = train_test_split(x_smote, y_smote, test_size = 0.20, random_state=42)\n",
        "\n",
        "svm.fit(X_train, y_train).score(X_test, y_test)\n",
        "\n",
        "y_train_predict = svm.predict(X_train)\n",
        "y_test_predict = svm.predict(X_test)\n",
        "\n",
        "#clf_score = clf.predict(X_test)#[:,1]\n",
        "#clf_score = clf.score(X_test, y_test)\n",
        "svm_score = svm.decision_function(X_test)\n",
        "print(svm_score)"
      ]
    },
    {
      "cell_type": "markdown",
      "metadata": {},
      "source": [
        "SVM model evaluation"
      ]
    },
    {
      "cell_type": "code",
      "execution_count": null,
      "metadata": {
        "colab": {
          "base_uri": "https://localhost:8080/"
        },
        "id": "F0BGNikV_ZBO",
        "outputId": "952d4b75-d0e5-42cc-c685-f77472640eba"
      },
      "outputs": [
        {
          "name": "stdout",
          "output_type": "stream",
          "text": [
            "AUC:0.716\n",
            "accuracy:0.716\n",
            "recall:0.786\n",
            "precision:0.690\n",
            "specificity:0.647\n",
            "sensitivity:1.546\n",
            "prevalence:0.501\n",
            " \n",
            "Validation:\n",
            "AUC:0.703\n",
            "accuracy:0.703\n",
            "recall:0.780\n",
            "precision:0.674\n",
            "specificity:0.626\n",
            "sensitivity:1.598\n",
            "prevalence:0.498\n",
            " \n",
            "                 precision    recall  f1-score   support\n",
            "\n",
            "  Hypertension        0.74      0.63      0.68      3235\n",
            "No Hypertension       0.67      0.78      0.72      3206\n",
            "\n",
            "       accuracy                           0.70      6441\n",
            "      macro avg       0.71      0.70      0.70      6441\n",
            "   weighted avg       0.71      0.70      0.70      6441\n",
            "\n",
            "Original ROC area: 0.703\n",
            "\n",
            "Mean Score: 0.7026859183356622\n"
          ]
        }
      ],
      "source": [
        "svm_train_auc, svm_train_accuracy, svm_train_recall, svm_train_precision, svm_train_specificity = print_report(y_train,y_train_predict, thresh)\n",
        "print('Validation:')\n",
        "svm_valid_auc, svm_valid_accuracy, svm_valid_recall, svm_valid_precision, svm_valid_specificity = print_report(y_test,y_test_predict, thresh)\n",
        "print(classification_report(y_test, y_test_predict.round(), target_names=target_names))\n",
        "print(\"Original ROC area: {:0.3f}\".format(roc_auc_score(y_test, y_test_predict)))\n",
        "print('\\nMean Score:',svm.score(X_test, y_test))\n",
        "#print(\"\\nCross Validation Score: {:.2%}\".format(np.mean(cross_val_score(clf, X_train, y_train, cv=20))))"
      ]
    },
    {
      "cell_type": "code",
      "execution_count": null,
      "metadata": {
        "colab": {
          "base_uri": "https://localhost:8080/",
          "height": 646
        },
        "id": "Hibce-LtD0ro",
        "outputId": "c2c5bbb8-6992-4e04-c885-1e0e3f69c82a"
      },
      "outputs": [
        {
          "data": {
            "image/png": "[encoded data removed]",
            "text/plain": [
              "<Figure size 432x288 with 1 Axes>"
            ]
          },
          "metadata": {
            "needs_background": "light",
            "tags": []
          },
          "output_type": "display_data"
        },
        {
          "name": "stdout",
          "output_type": "stream",
          "text": [
            "Average precision-recall score: 0.712\n"
          ]
        },
        {
          "data": {
            "image/png": "[encoded data removed]",
            "text/plain": [
              "<Figure size 432x288 with 1 Axes>"
            ]
          },
          "metadata": {
            "needs_background": "light",
            "tags": []
          },
          "output_type": "display_data"
        }
      ],
      "source": [
        "#Make plots\n",
        "plot_cm(svm, svm.predict(X_test).round())\n",
        "plot_aucprc(svm, svm_score)"
      ]
    },
    {
      "cell_type": "markdown",
      "metadata": {},
      "source": [
        "Classify data with XGBboost"
      ]
    },
    {
      "cell_type": "code",
      "execution_count": null,
      "metadata": {
        "colab": {
          "base_uri": "https://localhost:8080/"
        },
        "id": "v2MBQgZOLvzF",
        "outputId": "46b9292c-ca25-4555-b147-8dd3ac62d4ac"
      },
      "outputs": [
        {
          "name": "stdout",
          "output_type": "stream",
          "text": [
            "[ 2.07236924  0.37036468 -2.40406559 ...  0.85608406  0.14084879\n",
            " -0.53950003]\n"
          ]
        }
      ],
      "source": [
        "# XGB\n",
        "base_learners = [\n",
        "                 ('rf_4', XGBClassifier()),   \n",
        "                ]\n",
        "\n",
        "# Initialize Stacking Classifier with the Meta Learner\n",
        "XGB = StackingClassifier(estimators=base_learners, \n",
        "                         #final_estimator = SVC(),\n",
        "                         cv = 10)\n",
        "\n",
        "# Extract score\n",
        "#X_train, X_test, y_train, y_test = train_test_split(x_smote, y_smote, test_size = 0.20, random_state=42)\n",
        "\n",
        "XGB.fit(X_train, y_train).score(X_test, y_test)\n",
        "\n",
        "y_train_predict = XGB.predict(X_train)\n",
        "y_test_predict = XGB.predict(X_test)\n",
        "\n",
        "#clf_score = clf.predict(X_test)#[:,1]\n",
        "#clf_score = clf.score(X_test, y_test)\n",
        "XGB_score = XGB.decision_function(X_test)\n",
        "print(XGB_score)"
      ]
    },
    {
      "cell_type": "markdown",
      "metadata": {},
      "source": [
        "XGB model evaluation"
      ]
    },
    {
      "cell_type": "code",
      "execution_count": null,
      "metadata": {
        "colab": {
          "base_uri": "https://localhost:8080/"
        },
        "id": "6pGZ4uRv_WyI",
        "outputId": "496bbe7b-db11-4b10-b484-50f727fcdfdc"
      },
      "outputs": [
        {
          "name": "stdout",
          "output_type": "stream",
          "text": [
            "AUC:0.779\n",
            "accuracy:0.779\n",
            "recall:0.809\n",
            "precision:0.763\n",
            "specificity:0.748\n",
            "sensitivity:1.338\n",
            "prevalence:0.501\n",
            " \n",
            "Validation:\n",
            "AUC:0.764\n",
            "accuracy:0.764\n",
            "recall:0.798\n",
            "precision:0.746\n",
            "specificity:0.731\n",
            "sensitivity:1.368\n",
            "prevalence:0.498\n",
            " \n",
            "                 precision    recall  f1-score   support\n",
            "\n",
            "  Hypertension        0.78      0.73      0.76      3235\n",
            "No Hypertension       0.75      0.80      0.77      3206\n",
            "\n",
            "       accuracy                           0.76      6441\n",
            "      macro avg       0.77      0.76      0.76      6441\n",
            "   weighted avg       0.77      0.76      0.76      6441\n",
            "\n",
            "Original ROC area: 0.764\n",
            "\n",
            "Mean Score: 0.7643223102002794\n"
          ]
        }
      ],
      "source": [
        "XGB_train_auc, XGB_train_accuracy, XGB_train_recall, XGB_train_precision, XGB_train_specificity = print_report(y_train,y_train_predict, thresh)\n",
        "print('Validation:')\n",
        "XGB_valid_auc, XGB_valid_accuracy, XGB_valid_recall, XGB_valid_precision, XGB_valid_specificity = print_report(y_test,y_test_predict, thresh)\n",
        "print(classification_report(y_test, y_test_predict.round(), target_names=target_names))\n",
        "print(\"Original ROC area: {:0.3f}\".format(roc_auc_score(y_test, y_test_predict)))\n",
        "print('\\nMean Score:',XGB.score(X_test, y_test))\n",
        "#print(\"\\nCross Validation Score: {:.2%}\".format(np.mean(cross_val_score(clf, X_train, y_train, cv=20))))"
      ]
    },
    {
      "cell_type": "code",
      "execution_count": null,
      "metadata": {
        "colab": {
          "base_uri": "https://localhost:8080/",
          "height": 646
        },
        "id": "LQEG4OV5D9C4",
        "outputId": "b4ef5457-6f25-4c24-f403-85cd38582dcd"
      },
      "outputs": [
        {
          "data": {
            "image/png": "[encoded data removed]",
            "text/plain": [
              "<Figure size 432x288 with 1 Axes>"
            ]
          },
          "metadata": {
            "needs_background": "light",
            "tags": []
          },
          "output_type": "display_data"
        },
        {
          "name": "stdout",
          "output_type": "stream",
          "text": [
            "Average precision-recall score: 0.857\n"
          ]
        },
        {
          "data": {
            "image/png": "[encoded data removed]",
            "text/plain": [
              "<Figure size 432x288 with 1 Axes>"
            ]
          },
          "metadata": {
            "needs_background": "light",
            "tags": []
          },
          "output_type": "display_data"
        }
      ],
      "source": [
        "#Make plots\n",
        "plot_cm(XGB, XGB.predict(X_test).round())\n",
        "plot_aucprc(XGB, XGB_score)"
      ]
    },
    {
      "cell_type": "markdown",
      "metadata": {},
      "source": [
        "Classify data with LGBM model"
      ]
    },
    {
      "cell_type": "code",
      "execution_count": null,
      "metadata": {
        "colab": {
          "base_uri": "https://localhost:8080/"
        },
        "id": "GtydZmSdLijf",
        "outputId": "f0f3089a-8cd9-4ad9-f178-1b68b24a328b"
      },
      "outputs": [
        {
          "name": "stdout",
          "output_type": "stream",
          "text": [
            "[ 3.57322141 -0.16794543 -2.65332613 ...  0.60985688  0.02473096\n",
            "  3.36027205]\n"
          ]
        }
      ],
      "source": [
        "#LGBM\n",
        "base_learners = [ \n",
        "                 ('rf_5', LGBMClassifier(n_estimators=500, learning_rate=0.05, num_leaves=32, colsample_bytree=0.2, reg_alpha=3, reg_lambda=1, min_split_gain=0.01, min_child_weight=40)),        \n",
        "                ]\n",
        "\n",
        "# Initialize Stacking Classifier with the Meta Learner\n",
        "LGBM = StackingClassifier(estimators=base_learners, \n",
        "                         #final_estimator = SVC(),\n",
        "                         cv = 10)\n",
        "\n",
        "# Extract score\n",
        "#X_train, X_test, y_train, y_test = train_test_split(x_smote, y_smote, test_size = 0.20, random_state=42)\n",
        "\n",
        "LGBM.fit(X_train, y_train).score(X_test, y_test)\n",
        "\n",
        "y_train_predict = LGBM.predict(X_train)\n",
        "y_test_predict = LGBM.predict(X_test)\n",
        "\n",
        "#clf_score = clf.predict(X_test)#[:,1]\n",
        "#clf_score = clf.score(X_test, y_test)\n",
        "LGBM_score = LGBM.decision_function(X_test)\n",
        "print(LGBM_score)"
      ]
    },
    {
      "cell_type": "markdown",
      "metadata": {},
      "source": [
        "LGBM model evaluation"
      ]
    },
    {
      "cell_type": "code",
      "execution_count": null,
      "metadata": {
        "colab": {
          "base_uri": "https://localhost:8080/"
        },
        "id": "vM99goio_Vq_",
        "outputId": "6321580b-dfa0-4273-fb13-ac2ec4099a89"
      },
      "outputs": [
        {
          "name": "stdout",
          "output_type": "stream",
          "text": [
            "AUC:0.867\n",
            "accuracy:0.867\n",
            "recall:0.831\n",
            "precision:0.896\n",
            "specificity:0.903\n",
            "sensitivity:1.108\n",
            "prevalence:0.501\n",
            " \n",
            "Validation:\n",
            "AUC:0.826\n",
            "accuracy:0.826\n",
            "recall:0.796\n",
            "precision:0.845\n",
            "specificity:0.856\n",
            "sensitivity:1.169\n",
            "prevalence:0.498\n",
            " \n",
            "                 precision    recall  f1-score   support\n",
            "\n",
            "  Hypertension        0.81      0.86      0.83      3235\n",
            "No Hypertension       0.85      0.80      0.82      3206\n",
            "\n",
            "       accuracy                           0.83      6441\n",
            "      macro avg       0.83      0.83      0.83      6441\n",
            "   weighted avg       0.83      0.83      0.83      6441\n",
            "\n",
            "Original ROC area: 0.826\n",
            "\n",
            "Mean Score: 0.8259587020648967\n"
          ]
        }
      ],
      "source": [
        "LGBM_train_auc, LGBM_train_accuracy, LGBM_train_recall, LGBM_train_precision, LGBM_train_specificity = print_report(y_train,y_train_predict, thresh)\n",
        "print('Validation:')\n",
        "LGBM_valid_auc, LGBM_valid_accuracy, LGBM_valid_recall, LGBM_valid_precision, LGBM_valid_specificity = print_report(y_test,y_test_predict, thresh)\n",
        "print(classification_report(y_test, y_test_predict.round(), target_names=target_names))\n",
        "print(\"Original ROC area: {:0.3f}\".format(roc_auc_score(y_test, y_test_predict)))\n",
        "print('\\nMean Score:',LGBM.score(X_test, y_test))\n",
        "#print(\"\\nCross Validation Score: {:.2%}\".format(np.mean(cross_val_score(clf, X_train, y_train, cv=20))))"
      ]
    },
    {
      "cell_type": "code",
      "execution_count": null,
      "metadata": {
        "colab": {
          "base_uri": "https://localhost:8080/",
          "height": 646
        },
        "id": "JSk7S0_KECT3",
        "outputId": "56760084-a39c-4945-e7fa-b164de09c0cf"
      },
      "outputs": [
        {
          "data": {
            "image/png": "[encoded data removed]",
            "text/plain": [
              "<Figure size 432x288 with 1 Axes>"
            ]
          },
          "metadata": {
            "needs_background": "light",
            "tags": []
          },
          "output_type": "display_data"
        },
        {
          "name": "stdout",
          "output_type": "stream",
          "text": [
            "Average precision-recall score: 0.932\n"
          ]
        },
        {
          "data": {
            "image/png": "[encoded data removed]",
            "text/plain": [
              "<Figure size 432x288 with 1 Axes>"
            ]
          },
          "metadata": {
            "needs_background": "light",
            "tags": []
          },
          "output_type": "display_data"
        }
      ],
      "source": [
        "#Make plots\n",
        "plot_cm(LGBM, LGBM.predict(X_test).round())\n",
        "plot_aucprc(LGBM, LGBM_score)"
      ]
    },
    {
      "cell_type": "markdown",
      "metadata": {},
      "source": [
        "Classify data with KNN"
      ]
    },
    {
      "cell_type": "code",
      "execution_count": null,
      "metadata": {
        "colab": {
          "base_uri": "https://localhost:8080/"
        },
        "id": "szLxilTdLRxF",
        "outputId": "7cabba5f-e797-458e-85ed-e66f9e34e6e7"
      },
      "outputs": [
        {
          "name": "stdout",
          "output_type": "stream",
          "text": [
            "[ 1.69529346  0.80033534 -1.88453899 ...  0.80033534  1.69529346\n",
            "  0.80033534]\n"
          ]
        }
      ],
      "source": [
        "# KNN\n",
        "base_learners = [\n",
        "                 ('rf_2', KNeighborsClassifier(n_neighbors=5)),       \n",
        "                ]\n",
        "\n",
        "# Initialize Stacking Classifier with the Meta Learner\n",
        "KNN = StackingClassifier(estimators=base_learners, \n",
        "                         #final_estimator = SVC(),\n",
        "                         cv = 10)\n",
        "\n",
        "# Extract score\n",
        "#X_train, X_test, y_train, y_test = train_test_split(x_smote, y_smote, test_size = 0.20, random_state=42)\n",
        "\n",
        "KNN.fit(X_train, y_train).score(X_test, y_test)\n",
        "\n",
        "y_train_predict = KNN.predict(X_train)\n",
        "y_test_predict = KNN.predict(X_test)\n",
        "\n",
        "#clf_score = clf.predict(X_test)#[:,1]\n",
        "#clf_score = clf.score(X_test, y_test)\n",
        "KNN_score = KNN.decision_function(X_test)\n",
        "print(KNN_score)"
      ]
    },
    {
      "cell_type": "markdown",
      "metadata": {},
      "source": [
        "KNN model evaluation"
      ]
    },
    {
      "cell_type": "code",
      "execution_count": null,
      "metadata": {
        "colab": {
          "base_uri": "https://localhost:8080/"
        },
        "id": "CEZK5jW1_Ulg",
        "outputId": "bfe6c5ae-a0d1-41e1-ffb9-0bf651460704"
      },
      "outputs": [
        {
          "name": "stdout",
          "output_type": "stream",
          "text": [
            "AUC:0.865\n",
            "accuracy:0.865\n",
            "recall:0.848\n",
            "precision:0.879\n",
            "specificity:0.883\n",
            "sensitivity:1.132\n",
            "prevalence:0.501\n",
            " \n",
            "Validation:\n",
            "AUC:0.764\n",
            "accuracy:0.764\n",
            "recall:0.762\n",
            "precision:0.763\n",
            "specificity:0.765\n",
            "sensitivity:1.307\n",
            "prevalence:0.498\n",
            " \n",
            "                 precision    recall  f1-score   support\n",
            "\n",
            "  Hypertension        0.76      0.77      0.76      3235\n",
            "No Hypertension       0.76      0.76      0.76      3206\n",
            "\n",
            "       accuracy                           0.76      6441\n",
            "      macro avg       0.76      0.76      0.76      6441\n",
            "   weighted avg       0.76      0.76      0.76      6441\n",
            "\n",
            "Original ROC area: 0.764\n",
            "\n",
            "Mean Score: 0.7635460332246545\n"
          ]
        }
      ],
      "source": [
        "KNN_train_auc, KNN_train_accuracy, KNN_train_recall, KNN_train_precision, KNN_train_specificity = print_report(y_train,y_train_predict, thresh)\n",
        "print('Validation:')\n",
        "KNN_valid_auc, KNN_valid_accuracy, KNN_valid_recall, KNN_valid_precision, KNN_valid_specificity = print_report(y_test,y_test_predict, thresh)\n",
        "print(classification_report(y_test, y_test_predict.round(), target_names=target_names))\n",
        "print(\"Original ROC area: {:0.3f}\".format(roc_auc_score(y_test, y_test_predict)))\n",
        "print('\\nMean Score:',KNN.score(X_test, y_test))\n",
        "#print(\"\\nCross Validation Score: {:.2%}\".format(np.mean(cross_val_score(clf, X_train, y_train, cv=20))))"
      ]
    },
    {
      "cell_type": "code",
      "execution_count": null,
      "metadata": {
        "colab": {
          "base_uri": "https://localhost:8080/",
          "height": 646
        },
        "id": "GxST67xZEI-7",
        "outputId": "c9568234-a54d-4e2e-bc4f-f8bb54e80158"
      },
      "outputs": [
        {
          "data": {
            "image/png": "[encoded data removed]",
            "text/plain": [
              "<Figure size 432x288 with 1 Axes>"
            ]
          },
          "metadata": {
            "needs_background": "light",
            "tags": []
          },
          "output_type": "display_data"
        },
        {
          "name": "stdout",
          "output_type": "stream",
          "text": [
            "Average precision-recall score: 0.778\n"
          ]
        },
        {
          "data": {
            "image/png": "[encoded data removed]",
            "text/plain": [
              "<Figure size 432x288 with 1 Axes>"
            ]
          },
          "metadata": {
            "needs_background": "light",
            "tags": []
          },
          "output_type": "display_data"
        }
      ],
      "source": [
        "#Make plots\n",
        "plot_cm(KNN, KNN.predict(X_test).round())\n",
        "plot_aucprc(KNN, KNN_score)"
      ]
    },
    {
      "cell_type": "markdown",
      "metadata": {},
      "source": [
        "Classify data with RandomForest model"
      ]
    },
    {
      "cell_type": "code",
      "execution_count": null,
      "metadata": {
        "colab": {
          "base_uri": "https://localhost:8080/"
        },
        "id": "oEFBrXP6K3hi",
        "outputId": "96491abf-28c8-473c-83a3-761e4460a45c"
      },
      "outputs": [
        {
          "name": "stdout",
          "output_type": "stream",
          "text": [
            "[ 1.72935493  1.72935493 -2.51265491 ... -0.08864928  2.33535634\n",
            " -0.08864928]\n"
          ]
        }
      ],
      "source": [
        "# RF\n",
        "base_learners = [\n",
        "                 ('RF', RandomForestClassifier(n_estimators=10, random_state=42)),         \n",
        "                ]\n",
        "# Initialize Stacking Classifier with the Meta Learner\n",
        "RF = StackingClassifier(estimators=base_learners, \n",
        "                         #final_estimator = SVC(),\n",
        "                         cv = 10)\n",
        "\n",
        "# Extract score\n",
        "#X_train, X_test, y_train, y_test = train_test_split(x_smote, y_smote, test_size = 0.20, random_state=42)\n",
        "\n",
        "RF.fit(X_train, y_train).score(X_test, y_test)\n",
        "\n",
        "y_train_predict = RF.predict(X_train)\n",
        "y_test_predict = RF.predict(X_test)\n",
        "\n",
        "#clf_score = clf.predict(X_test)#[:,1]\n",
        "#clf_score = clf.score(X_test, y_test)\n",
        "RF_score = RF.decision_function(X_test)\n",
        "print(RF_score)"
      ]
    },
    {
      "cell_type": "markdown",
      "metadata": {},
      "source": [
        "RandomForest model evaluation"
      ]
    },
    {
      "cell_type": "code",
      "execution_count": null,
      "metadata": {
        "colab": {
          "base_uri": "https://localhost:8080/"
        },
        "id": "tqboH-52_TdO",
        "outputId": "93812101-0a86-49ca-836e-95b628b31093"
      },
      "outputs": [
        {
          "name": "stdout",
          "output_type": "stream",
          "text": [
            "AUC:0.992\n",
            "accuracy:0.992\n",
            "recall:0.988\n",
            "precision:0.997\n",
            "specificity:0.997\n",
            "sensitivity:1.003\n",
            "prevalence:0.501\n",
            " \n",
            "Validation:\n",
            "AUC:0.785\n",
            "accuracy:0.786\n",
            "recall:0.763\n",
            "precision:0.797\n",
            "specificity:0.808\n",
            "sensitivity:1.238\n",
            "prevalence:0.498\n",
            " \n",
            "                 precision    recall  f1-score   support\n",
            "\n",
            "  Hypertension        0.77      0.81      0.79      3235\n",
            "No Hypertension       0.80      0.76      0.78      3206\n",
            "\n",
            "       accuracy                           0.79      6441\n",
            "      macro avg       0.79      0.79      0.79      6441\n",
            "   weighted avg       0.79      0.79      0.79      6441\n",
            "\n",
            "Original ROC area: 0.785\n",
            "\n",
            "Mean Score: 0.7855922993324018\n"
          ]
        }
      ],
      "source": [
        "RF_train_auc, RF_train_accuracy, RF_train_recall, RF_train_precision, RF_train_specificity = print_report(y_train,y_train_predict, thresh)\n",
        "print('Validation:')\n",
        "RF_valid_auc, RF_valid_accuracy, RF_valid_recall, RF_valid_precision, RF_valid_specificity = print_report(y_test,y_test_predict, thresh)\n",
        "print(classification_report(y_test, y_test_predict.round(), target_names=target_names))\n",
        "print(\"Original ROC area: {:0.3f}\".format(roc_auc_score(y_test, y_test_predict)))\n",
        "print('\\nMean Score:',RF.score(X_test, y_test))\n",
        "#print(\"\\nCross Validation Score: {:.2%}\".format(np.mean(cross_val_score(clf, X_train, y_train, cv=20))))"
      ]
    },
    {
      "cell_type": "code",
      "execution_count": null,
      "metadata": {
        "colab": {
          "base_uri": "https://localhost:8080/",
          "height": 646
        },
        "id": "wGLzEIiRELSG",
        "outputId": "d3bfdf3c-1ed7-4c9b-8ff0-a6aa4a5e5c3e"
      },
      "outputs": [
        {
          "data": {
            "image/png": "[encoded data removed]",
            "text/plain": [
              "<Figure size 432x288 with 1 Axes>"
            ]
          },
          "metadata": {
            "needs_background": "light",
            "tags": []
          },
          "output_type": "display_data"
        },
        {
          "name": "stdout",
          "output_type": "stream",
          "text": [
            "Average precision-recall score: 0.839\n"
          ]
        },
        {
          "data": {
            "image/png": "[encoded data removed]",
            "text/plain": [
              "<Figure size 432x288 with 1 Axes>"
            ]
          },
          "metadata": {
            "needs_background": "light",
            "tags": []
          },
          "output_type": "display_data"
        }
      ],
      "source": [
        "#Make plots\n",
        "plot_cm(RF, RF.predict(X_test).round())\n",
        "plot_aucprc(RF, RF_score)"
      ]
    },
    {
      "cell_type": "markdown",
      "metadata": {},
      "source": [
        "Classify data with RF & KNN model combined"
      ]
    },
    {
      "cell_type": "code",
      "execution_count": null,
      "metadata": {
        "colab": {
          "base_uri": "https://localhost:8080/"
        },
        "id": "NEqCKJfQU6Dv",
        "outputId": "7b912fb9-bd8a-4ed3-f397-fdba6bad00bd"
      },
      "outputs": [
        {
          "name": "stdout",
          "output_type": "stream",
          "text": [
            "[ 0.99997845  1.04979025 -1.06410595 ...  0.60709354  1.10561918\n",
            "  0.60709354]\n"
          ]
        }
      ],
      "source": [
        "# RF-KNN-SVM\n",
        "base_learners = [\n",
        "                 ('RF', RandomForestClassifier(n_estimators=10, random_state=42)),\n",
        "                 ('KNN', KNeighborsClassifier(n_neighbors=5)),        \n",
        "                ]\n",
        "\n",
        "# Initialize Stacking Classifier with the Meta Learner\n",
        "RKS= StackingClassifier(estimators=base_learners, \n",
        "                         final_estimator = SVC(),\n",
        "                         cv = 10)\n",
        "\n",
        "# Extract score\n",
        "#X_train, X_test, y_train, y_test = train_test_split(x_smote, y_smote, test_size = 0.20, random_state=42)\n",
        "\n",
        "RKS.fit(X_train, y_train).score(X_test, y_test)\n",
        "\n",
        "y_train_predict = RKS.predict(X_train)\n",
        "y_test_predict = RKS.predict(X_test)\n",
        "\n",
        "#clf_score = clf.predict(X_test)#[:,1]\n",
        "#clf_score = clf.score(X_test, y_test)\n",
        "RKS_score = RKS.decision_function(X_test)\n",
        "print(RKS_score)"
      ]
    },
    {
      "cell_type": "markdown",
      "metadata": {},
      "source": [
        "Evaluation of RF & KNN combined model"
      ]
    },
    {
      "cell_type": "code",
      "execution_count": null,
      "metadata": {
        "colab": {
          "base_uri": "https://localhost:8080/"
        },
        "id": "LyB-HRUN_SLr",
        "outputId": "a16fb5fb-45c8-4651-d1ae-f0d06a9d2ca4"
      },
      "outputs": [
        {
          "name": "stdout",
          "output_type": "stream",
          "text": [
            "AUC:0.990\n",
            "accuracy:0.990\n",
            "recall:0.985\n",
            "precision:0.994\n",
            "specificity:0.994\n",
            "sensitivity:1.006\n",
            "prevalence:0.501\n",
            " \n",
            "Validation:\n",
            "AUC:0.803\n",
            "accuracy:0.803\n",
            "recall:0.825\n",
            "precision:0.789\n",
            "specificity:0.782\n",
            "sensitivity:1.279\n",
            "prevalence:0.498\n",
            " \n",
            "                 precision    recall  f1-score   support\n",
            "\n",
            "  Hypertension        0.82      0.78      0.80      3235\n",
            "No Hypertension       0.79      0.82      0.81      3206\n",
            "\n",
            "       accuracy                           0.80      6441\n",
            "      macro avg       0.80      0.80      0.80      6441\n",
            "   weighted avg       0.80      0.80      0.80      6441\n",
            "\n",
            "Original ROC area: 0.803\n",
            "\n",
            "Mean Score: 0.8032914143766496\n"
          ]
        }
      ],
      "source": [
        "RKS_train_auc, RKS_train_accuracy, RKS_train_recall, RKS_train_precision, RKS_train_specificity = print_report(y_train,y_train_predict, thresh)\n",
        "print('Validation:')\n",
        "RKS_valid_auc, RKS_valid_accuracy, RKS_valid_recall, RKS_valid_precision, RKS_valid_specificity = print_report(y_test,y_test_predict, thresh)\n",
        "print(classification_report(y_test, y_test_predict.round(), target_names=target_names))\n",
        "print(\"Original ROC area: {:0.3f}\".format(roc_auc_score(y_test, y_test_predict)))\n",
        "print('\\nMean Score:',RKS.score(X_test, y_test))\n",
        "#print(\"\\nCross Validation Score: {:.2%}\".format(np.mean(cross_val_score(clf, X_train, y_train, cv=20))))"
      ]
    },
    {
      "cell_type": "code",
      "execution_count": null,
      "metadata": {
        "colab": {
          "base_uri": "https://localhost:8080/",
          "height": 646
        },
        "id": "Wshj3L_8EM-J",
        "outputId": "acd23185-06b8-45a3-9ed1-29d8d3a63e18"
      },
      "outputs": [
        {
          "data": {
            "image/png": "[encoded data removed]",
            "text/plain": [
              "<Figure size 432x288 with 1 Axes>"
            ]
          },
          "metadata": {
            "needs_background": "light",
            "tags": []
          },
          "output_type": "display_data"
        },
        {
          "name": "stdout",
          "output_type": "stream",
          "text": [
            "Average precision-recall score: 0.842\n"
          ]
        },
        {
          "data": {
            "image/png": "[encoded data removed]",
            "text/plain": [
              "<Figure size 432x288 with 1 Axes>"
            ]
          },
          "metadata": {
            "needs_background": "light",
            "tags": []
          },
          "output_type": "display_data"
        }
      ],
      "source": [
        "#Make plots\n",
        "plot_cm(RKS, RKS.predict(X_test).round())\n",
        "plot_aucprc(RKS, RKS_score)"
      ]
    },
    {
      "cell_type": "markdown",
      "metadata": {},
      "source": [
        "Classify data with RFF,KNN & XGB combined model"
      ]
    },
    {
      "cell_type": "code",
      "execution_count": null,
      "metadata": {
        "colab": {
          "base_uri": "https://localhost:8080/"
        },
        "id": "qyIfJNSGVJRu",
        "outputId": "f7a767d7-3ecd-4f3b-bdea-5949d78b09f0"
      },
      "outputs": [
        {
          "name": "stdout",
          "output_type": "stream",
          "text": [
            "[ 1.01930109  1.10958788 -1.04901685 ...  0.51308553  1.0046449\n",
            " -0.00590114]\n"
          ]
        }
      ],
      "source": [
        "# RKXS\n",
        "base_learners = [\n",
        "                 ('RF', RandomForestClassifier(n_estimators=10, random_state=42)),\n",
        "                 ('KNN', KNeighborsClassifier(n_neighbors=5)),\n",
        "                 ('XGB', XGBClassifier()),         \n",
        "                ]\n",
        "\n",
        "# Initialize Stacking Classifier with the Meta Learner\n",
        "RKXS = StackingClassifier(estimators=base_learners, \n",
        "                         final_estimator = SVC(),\n",
        "                         cv = 10)\n",
        "\n",
        "# Extract score\n",
        "#X_train, X_test, y_train, y_test = train_test_split(x_smote, y_smote, test_size = 0.20, random_state=42)\n",
        "\n",
        "RKXS.fit(X_train, y_train).score(X_test, y_test)\n",
        "\n",
        "y_train_predict = RKXS.predict(X_train)\n",
        "y_test_predict = RKXS.predict(X_test)\n",
        "\n",
        "#clf_score = clf.predict(X_test)#[:,1]\n",
        "#clf_score = clf.score(X_test, y_test)\n",
        "RKXS_score = RKXS.decision_function(X_test)\n",
        "print(RKXS_score)"
      ]
    },
    {
      "cell_type": "markdown",
      "metadata": {},
      "source": [
        "Evaluation of RF,KNN & XGB combined model"
      ]
    },
    {
      "cell_type": "code",
      "execution_count": null,
      "metadata": {
        "colab": {
          "base_uri": "https://localhost:8080/"
        },
        "id": "ZoMgMEL__MI0",
        "outputId": "e5f1fb54-7e60-4482-f7b6-f96eb2ec5cd0"
      },
      "outputs": [
        {
          "name": "stdout",
          "output_type": "stream",
          "text": [
            "AUC:0.964\n",
            "accuracy:0.964\n",
            "recall:0.979\n",
            "precision:0.950\n",
            "specificity:0.948\n",
            "sensitivity:1.055\n",
            "prevalence:0.501\n",
            " \n",
            "Validation:\n",
            "AUC:0.808\n",
            "accuracy:0.808\n",
            "recall:0.830\n",
            "precision:0.794\n",
            "specificity:0.786\n",
            "sensitivity:1.272\n",
            "prevalence:0.498\n",
            " \n",
            "                 precision    recall  f1-score   support\n",
            "\n",
            "  Hypertension        0.82      0.79      0.80      3235\n",
            "No Hypertension       0.79      0.83      0.81      3206\n",
            "\n",
            "       accuracy                           0.81      6441\n",
            "      macro avg       0.81      0.81      0.81      6441\n",
            "   weighted avg       0.81      0.81      0.81      6441\n",
            "\n",
            "Original ROC area: 0.808\n",
            "\n",
            "Mean Score: 0.808104331625524\n"
          ]
        }
      ],
      "source": [
        "RKXS_train_auc, RKXS_train_accuracy, RKXS_train_recall, RKXS_train_precision, RKXS_train_specificity = print_report(y_train,y_train_predict, thresh)\n",
        "print('Validation:')\n",
        "RKXS_valid_auc, RKXS_valid_accuracy, RKXS_valid_recall, RKXS_valid_precision, RKXS_valid_specificity = print_report(y_test,y_test_predict, thresh)\n",
        "print(classification_report(y_test, y_test_predict.round(), target_names=target_names))\n",
        "print(\"Original ROC area: {:0.3f}\".format(roc_auc_score(y_test, y_test_predict)))\n",
        "print('\\nMean Score:',RKXS.score(X_test, y_test))\n",
        "#print(\"\\nCross Validation Score: {:.2%}\".format(np.mean(cross_val_score(clf, X_train, y_train, cv=20))))"
      ]
    },
    {
      "cell_type": "code",
      "execution_count": null,
      "metadata": {
        "colab": {
          "base_uri": "https://localhost:8080/",
          "height": 646
        },
        "id": "FLYMygO5EO96",
        "outputId": "09cd0f35-5670-4b94-e77c-f154b513634c"
      },
      "outputs": [
        {
          "data": {
            "image/png": "[encoded data removed]",
            "text/plain": [
              "<Figure size 432x288 with 1 Axes>"
            ]
          },
          "metadata": {
            "needs_background": "light",
            "tags": []
          },
          "output_type": "display_data"
        },
        {
          "name": "stdout",
          "output_type": "stream",
          "text": [
            "Average precision-recall score: 0.868\n"
          ]
        },
        {
          "data": {
            "image/png": "[encoded data removed]",
            "text/plain": [
              "<Figure size 432x288 with 1 Axes>"
            ]
          },
          "metadata": {
            "needs_background": "light",
            "tags": []
          },
          "output_type": "display_data"
        }
      ],
      "source": [
        "#Make plots\n",
        "plot_cm(RKXS, RKXS.predict(X_test).round())\n",
        "plot_aucprc(RKXS, RKXS_score)"
      ]
    },
    {
      "cell_type": "markdown",
      "metadata": {},
      "source": [
        "Classify data with RF , KNN & LGBM combined model"
      ]
    },
    {
      "cell_type": "code",
      "execution_count": null,
      "metadata": {
        "colab": {
          "base_uri": "https://localhost:8080/"
        },
        "id": "rgEqFB5acXxn",
        "outputId": "ec7f47ff-2a26-49a1-b50b-7c348cef68f8"
      },
      "outputs": [
        {
          "name": "stdout",
          "output_type": "stream",
          "text": [
            "[ 1.26242923  0.43354531 -1.00075635 ... -0.48378863  1.18417573\n",
            "  2.81325722]\n"
          ]
        }
      ],
      "source": [
        "# RKLS = Main CLassifier\n",
        "base_learners = [\n",
        "                 ('rf_1', RandomForestClassifier(n_estimators=10, random_state=42)),\n",
        "                 ('rf_2', KNeighborsClassifier(n_neighbors=5)),\n",
        "                 #('rf_3', GradientBoostingClassifier(n_estimators=100, learning_rate=1.0, max_depth=3, random_state=42)),\n",
        "                 #('rf_4', XGBClassifier()),  \n",
        "                 ('rf_5', LGBMClassifier(n_estimators=500, learning_rate=0.05, num_leaves=32, colsample_bytree=0.2, reg_alpha=3, reg_lambda=1, min_split_gain=0.01, min_child_weight=40)),\n",
        "                 #('rf_6', SVC()),\n",
        "                 #('rf_7', LogisticRegression(random_state = 42)),\n",
        "                 #('rf_8', ElasticNetCV(random_state=0)),\n",
        "                 #('rf_9', SGDClassifier(loss = 'log',alpha = 0.1,random_state = 42)),\n",
        "                 #('rf_10', GaussianNB()),\n",
        "                 #('rf_11', DecisionTreeClassifier(max_depth = 10, random_state = 42)),\n",
        "                 #('rf_12', NuSVC()),\n",
        "                 #('rf_13', ),         \n",
        "                ]\n",
        "#layer_two_estimators = [\n",
        "#                        ('dt_2', KNeighborsClassifier(n_neighbors=5)),\n",
        "#                       ('rf_2', RandomForestClassifier(n_estimators=50, random_state=42)),\n",
        "#                        ('rf_3', GradientBoostingClassifier(n_estimators=100, learning_rate=1.0, max_depth=3, random_state=42))\n",
        "#                      ]\n",
        "#layer_two = StackingClassifier(estimators=layer_two_estimators, final_estimator=NuSVC())\n",
        "\n",
        "# Create Final model by \n",
        "#clf = StackingClassifier(estimators=layer_one_estimators, final_estimator=layer_two)\n",
        "\n",
        "# Initialize Stacking Classifier with the Meta Learner\n",
        "clf = StackingClassifier(estimators=base_learners, \n",
        "                         final_estimator = SVC(),\n",
        "                         cv = 10)\n",
        "\n",
        "# Extract score\n",
        "#X_train, X_test, y_train, y_test = train_test_split(x_smote, y_smote, test_size = 0.20, random_state=42)\n",
        "\n",
        "clf.fit(X_train, y_train).score(X_test, y_test)\n",
        "\n",
        "y_train_predict = clf.predict(X_train)\n",
        "y_test_predict = clf.predict(X_test)\n",
        "\n",
        "#clf_score = clf.predict(X_test)#[:,1]\n",
        "#clf_score = clf.score(X_test, y_test)\n",
        "clf_score = clf.decision_function(X_test)\n",
        "print(clf_score)"
      ]
    },
    {
      "cell_type": "markdown",
      "metadata": {},
      "source": [
        "EValuate RF,KNN & LGBM combined model"
      ]
    },
    {
      "cell_type": "code",
      "execution_count": null,
      "metadata": {
        "colab": {
          "base_uri": "https://localhost:8080/"
        },
        "id": "jflTBv0CtpLL",
        "outputId": "6e2082d8-2514-4318-81c3-5cd38cdfd1ed"
      },
      "outputs": [
        {
          "name": "stdout",
          "output_type": "stream",
          "text": [
            "AUC:0.951\n",
            "accuracy:0.951\n",
            "recall:0.919\n",
            "precision:0.982\n",
            "specificity:0.984\n",
            "sensitivity:1.017\n",
            "prevalence:0.501\n",
            " \n",
            "Validation:\n",
            "AUC:0.851\n",
            "accuracy:0.851\n",
            "recall:0.789\n",
            "precision:0.898\n",
            "specificity:0.912\n",
            "sensitivity:1.097\n",
            "prevalence:0.498\n",
            " \n",
            "                 precision    recall  f1-score   support\n",
            "\n",
            "  Hypertension        0.81      0.91      0.86      3235\n",
            "No Hypertension       0.90      0.79      0.84      3206\n",
            "\n",
            "       accuracy                           0.85      6441\n",
            "      macro avg       0.86      0.85      0.85      6441\n",
            "   weighted avg       0.86      0.85      0.85      6441\n",
            "\n",
            "Original ROC area: 0.851\n",
            "\n",
            "Mean Score: 0.8507995652848936\n"
          ]
        }
      ],
      "source": [
        "clf_train_auc, clf_train_accuracy, clf_train_recall, clf_train_precision, clf_train_specificity = print_report(y_train,y_train_predict, thresh)\n",
        "print('Validation:')\n",
        "clf_valid_auc, clf_valid_accuracy, clf_valid_recall, clf_valid_precision, clf_valid_specificity = print_report(y_test,y_test_predict, thresh)\n",
        "print(classification_report(y_test, y_test_predict.round(), target_names=target_names))\n",
        "print(\"Original ROC area: {:0.3f}\".format(roc_auc_score(y_test, y_test_predict)))\n",
        "print('\\nMean Score:',clf.score(X_test, y_test))\n",
        "#print(\"\\nCross Validation Score: {:.2%}\".format(np.mean(cross_val_score(clf, X_train, y_train, cv=20))))"
      ]
    },
    {
      "cell_type": "code",
      "execution_count": null,
      "metadata": {
        "colab": {
          "base_uri": "https://localhost:8080/",
          "height": 646
        },
        "id": "j5_IilkSnBTd",
        "outputId": "6b789148-1b57-45a1-d3a3-95e4b570529a"
      },
      "outputs": [
        {
          "data": {
            "image/png": "[encoded data removed]",
            "text/plain": [
              "<Figure size 432x288 with 1 Axes>"
            ]
          },
          "metadata": {
            "needs_background": "light",
            "tags": []
          },
          "output_type": "display_data"
        },
        {
          "name": "stdout",
          "output_type": "stream",
          "text": [
            "Average precision-recall score: 0.933\n"
          ]
        },
        {
          "data": {
            "image/png": "[encoded data removed]",
            "text/plain": [
              "<Figure size 432x288 with 1 Axes>"
            ]
          },
          "metadata": {
            "needs_background": "light",
            "tags": []
          },
          "output_type": "display_data"
        }
      ],
      "source": [
        "#Make plots\n",
        "plot_cm(clf, clf.predict(X_test).round())\n",
        "plot_aucprc(clf, clf_score)"
      ]
    },
    {
      "cell_type": "code",
      "execution_count": null,
      "metadata": {
        "colab": {
          "base_uri": "https://localhost:8080/",
          "height": 265
        },
        "id": "AprDxOZ7GTk2",
        "outputId": "ad8f4581-0a18-4a7f-f9a6-7cc3163e7be8"
      },
      "outputs": [
        {
          "data": {
            "image/png": "[encoded data removed]",
            "text/plain": [
              "<Figure size 432x288 with 1 Axes>"
            ]
          },
          "metadata": {
            "needs_background": "light",
            "tags": []
          },
          "output_type": "display_data"
        }
      ],
      "source": [
        "x_ax = range(len(X_test))\n",
        "plt.scatter(x_ax, y_test, s=5, color=\"blue\", label=\"original\")\n",
        "plt.plot(x_ax, y_test_predict, lw=0.8, color=\"red\", label=\"predicted\")\n",
        "plt.legend()\n",
        "plt.show()"
      ]
    },
    {
      "cell_type": "code",
      "execution_count": null,
      "metadata": {
        "colab": {
          "base_uri": "https://localhost:8080/"
        },
        "id": "CmydwyLWcL02",
        "outputId": "15dba75c-4cdf-475f-8862-d72446de1cdc"
      },
      "outputs": [
        {
          "name": "stdout",
          "output_type": "stream",
          "text": [
            "Train:\n",
            "AUC Score: 0.9512842039603109\n",
            "Accuracy: 0.9512479136746497\n",
            "Recall Score: 0.919044665012407\n",
            "Precision Score: 0.9824270557029178\n",
            "\n",
            "Test:\n",
            "AUC Score: 0.8505246152644627\n",
            "Accuracy: 0.8507995652848936\n",
            "Recall Score: 0.7894572676232064\n",
            "Precision Score: 0.8984735534256301\n"
          ]
        }
      ],
      "source": [
        "print('Train:')\n",
        "print('AUC Score:' ,roc_auc_score(y_train, y_train_predict))\n",
        "print('Accuracy:' ,accuracy_score(y_train, y_train_predict))\n",
        "print('Recall Score:' ,recall_score(y_train, y_train_predict))\n",
        "print('Precision Score:' ,precision_score(y_train, y_train_predict))\n",
        "\n",
        "print('\\nTest:')\n",
        "print('AUC Score:' ,roc_auc_score(y_test, y_test_predict))\n",
        "print('Accuracy:' ,accuracy_score(y_test, y_test_predict))\n",
        "print('Recall Score:' ,recall_score(y_test, y_test_predict))\n",
        "print('Precision Score:' ,precision_score(y_test, y_test_predict))\n"
      ]
    },
    {
      "cell_type": "markdown",
      "metadata": {},
      "source": [
        "Evaluate & find the best model for classification"
      ]
    },
    {
      "cell_type": "code",
      "execution_count": null,
      "metadata": {
        "colab": {
          "base_uri": "https://localhost:8080/",
          "height": 602
        },
        "id": "EFskAziNzjXl",
        "outputId": "c4eaba73-202d-4237-d788-44b8f8b60078"
      },
      "outputs": [
        {
          "name": "stdout",
          "output_type": "stream",
          "text": [
            "             Model       AUC  Accuracy    Recall  Precision  Specificity\n",
            "0              SVM  0.703034  0.702686  0.780412   0.673849     0.625657\n",
            "1              XGB  0.764473  0.764322  0.797879   0.746208     0.731066\n",
            "2              KNN  0.763539  0.763546  0.762009   0.762722     0.765070\n",
            "3             LGBM  0.825824  0.825959  0.796007   0.845313     0.855641\n",
            "4               RF  0.785492  0.785592  0.763256   0.797328     0.807728\n",
            "5         RF + KNN  0.803387  0.803291  0.824704   0.789489     0.782071\n",
            "6   RF + KNN + XGB  0.808204  0.808104  0.830318   0.793679     0.786090\n",
            "7  RF + KNN + LGBM  0.850525  0.850800  0.789457   0.898474     0.911592\n"
          ]
        },
        {
          "data": {
            "text/plain": [
              "<Figure size 432x288 with 0 Axes>"
            ]
          },
          "metadata": {
            "tags": []
          },
          "output_type": "display_data"
        },
        {
          "data": {
            "image/png": "[encoded data removed]",
            "text/plain": [
              "<Figure size 720x360 with 1 Axes>"
            ]
          },
          "metadata": {
            "needs_background": "light",
            "tags": []
          },
          "output_type": "display_data"
        }
      ],
      "source": [
        "import matplotlib.pyplot as plt\n",
        "import pandas as pd\n",
        "  \n",
        "# create dataframe\n",
        "df = pd.DataFrame([['SVM', svm_valid_auc, svm_valid_accuracy, svm_valid_recall, svm_valid_precision, svm_valid_specificity], \n",
        "                   ['XGB', XGB_valid_auc, XGB_valid_accuracy, XGB_valid_recall, XGB_valid_precision, XGB_valid_specificity], \n",
        "                   ['KNN', KNN_valid_auc, KNN_valid_accuracy, KNN_valid_recall, KNN_valid_precision, KNN_valid_specificity],\n",
        "                   ['LGBM', LGBM_valid_auc, LGBM_valid_accuracy, LGBM_valid_recall, LGBM_valid_precision, LGBM_valid_specificity],\n",
        "                   ['RF', RF_valid_auc, RF_valid_accuracy, RF_valid_recall, RF_valid_precision, RF_valid_specificity],\n",
        "                   ['RF + KNN', RKS_valid_auc, RKS_valid_accuracy, RKS_valid_recall, RKS_valid_precision, RKS_valid_specificity],\n",
        "                   ['RF + KNN + XGB', RKXS_valid_auc, RKXS_valid_accuracy, RKXS_valid_recall, RKXS_valid_precision, RKXS_valid_specificity],\n",
        "                   ['RF + KNN + LGBM', clf_valid_auc, clf_valid_accuracy, clf_valid_recall, clf_valid_precision, clf_valid_specificity]],\n",
        "                  columns=['Model', 'AUC', 'Accuracy', 'Recall', 'Precision', 'Specificity'])\n",
        "# view data\n",
        "print(df)\n",
        "\n",
        "fig_2 = plt.figure()\n",
        "# plot grouped bar chart\n",
        "df.plot(x='Model',\n",
        "        kind='bar',\n",
        "        stacked=False,\n",
        "        #subplots=True,\n",
        "        figsize=(10, 5),\n",
        "        title='Comparision of different Model')\n",
        "fig_2.savefig('Comp-10.png')"
      ]
    },
    {
      "cell_type": "code",
      "execution_count": null,
      "metadata": {
        "colab": {
          "base_uri": "https://localhost:8080/",
          "height": 523
        },
        "id": "s_5k-XWVb_kN",
        "outputId": "7603f05a-fdbf-4451-cf91-f3a642b18e2f"
      },
      "outputs": [
        {
          "name": "stdout",
          "output_type": "stream",
          "text": [
            "  Feature set       SVM  ...  RF+KNN+XGB  Proposed Model (RF+KNN+LGBM)\n",
            "0       set 1  0.702686  ...    0.808104                      0.850800\n",
            "1       set 2  0.689023  ...    0.819438                      0.853905\n",
            "2       set 3  0.689023  ...    0.817730                      0.854836\n",
            "\n",
            "[3 rows x 9 columns]\n"
          ]
        },
        {
          "data": {
            "text/plain": [
              "<Figure size 432x288 with 0 Axes>"
            ]
          },
          "metadata": {
            "tags": []
          },
          "output_type": "display_data"
        },
        {
          "data": {
            "image/png": "[encoded data removed]",
            "text/plain": [
              "<Figure size 576x432 with 1 Axes>"
            ]
          },
          "metadata": {
            "needs_background": "light",
            "tags": []
          },
          "output_type": "display_data"
        }
      ],
      "source": [
        "import matplotlib.pyplot as plt\n",
        "import pandas as pd\n",
        "  \n",
        "# create dataframe\n",
        "# Accuracy\n",
        "df = pd.DataFrame([\n",
        "                   ['set 1', 0.702686, 0.764322, 0.763546, 0.825959, 0.785592, 0.803291, 0.808104, 0.850800], \n",
        "                   ['set 2', 0.689023, 0.769601, 0.773638, 0.822854, 0.801273, 0.815712, 0.819438, 0.853905], \n",
        "                   ['set 3', 0.689023, 0.802670, 0.769601, 0.828443, 0.802670, 0.814780, 0.817730, 0.854836],\n",
        "                   ],\n",
        "                  columns=['Feature set', 'SVM', 'XGB', 'KNN', 'LGBM', 'RF', 'RF+KNN', 'RF+KNN+XGB', 'Proposed Model (RF+KNN+LGBM)' ])\n",
        "# view data\n",
        "print(df)\n",
        "\n",
        "fig_3 = plt.figure()\n",
        "# plot grouped bar chart\n",
        "df.plot(x='Feature set',\n",
        "        kind='bar',\n",
        "        stacked=False,\n",
        "        style= 'list',\n",
        "        #legend= 'true', \n",
        "        #subplots=True,\n",
        "        figsize=(8, 6),\n",
        "        rot='horizontal',\n",
        "        ylabel='Accuracy',\n",
        "        title='Accuracy comparision for different feature set')\n",
        "fig_3.savefig('Accuracy.png')"
      ]
    },
    {
      "cell_type": "code",
      "execution_count": null,
      "metadata": {
        "colab": {
          "base_uri": "https://localhost:8080/",
          "height": 523
        },
        "id": "k6rROiOHlrVo",
        "outputId": "735489a1-7004-4d80-93c8-c9f101a2f3dd"
      },
      "outputs": [
        {
          "name": "stdout",
          "output_type": "stream",
          "text": [
            "  Feature set       SVM  ...  RF+KNN+XGB  Proposed Model (RF+KNN+LGBM)\n",
            "0       set 1  0.703034  ...    0.808204                      0.850525\n",
            "1       set 2  0.689279  ...    0.819526                      0.853693\n",
            "2       set 3  0.689274  ...    0.817827                      0.854655\n",
            "\n",
            "[3 rows x 9 columns]\n"
          ]
        },
        {
          "data": {
            "text/plain": [
              "<Figure size 432x288 with 0 Axes>"
            ]
          },
          "metadata": {
            "tags": []
          },
          "output_type": "display_data"
        },
        {
          "data": {
            "image/png": "[encoded data removed]",
            "text/plain": [
              "<Figure size 576x432 with 1 Axes>"
            ]
          },
          "metadata": {
            "needs_background": "light",
            "tags": []
          },
          "output_type": "display_data"
        }
      ],
      "source": [
        "import matplotlib.pyplot as plt\n",
        "import pandas as pd\n",
        "  \n",
        "# create dataframe\n",
        "# AUC\n",
        "df = pd.DataFrame([\n",
        "                   ['set 1', 0.703034, 0.764473, 0.763539, 0.825824, 0.785492, 0.803387, 0.808204, 0.850525], \n",
        "                   ['set 2', 0.689279, 0.769760, 0.773637, 0.822735, 0.801206, 0.815842, 0.819526, 0.853693], \n",
        "                   ['set 3', 0.689274, 0.802606, 0.769545, 0.828331, 0.802606, 0.814899, 0.817827, 0.854655],\n",
        "                   ],\n",
        "                  columns=['Feature set', 'SVM', 'XGB', 'KNN', 'LGBM', 'RF', 'RF+KNN', 'RF+KNN+XGB', 'Proposed Model (RF+KNN+LGBM)' ])\n",
        "# view data\n",
        "print(df)\n",
        "\n",
        "fig_4 = plt.figure()\n",
        "# plot grouped bar chart\n",
        "df.plot(x='Feature set',\n",
        "        kind='bar',\n",
        "        stacked=False,\n",
        "        style= 'list',\n",
        "        #legend= 'true', \n",
        "        #subplots=True,\n",
        "        figsize=(8, 6),\n",
        "        rot='horizontal',\n",
        "        ylabel='AUC',\n",
        "        title='AUC comparision for different feature set')\n",
        "fig_4.savefig('AUC.png')"
      ]
    },
    {
      "cell_type": "code",
      "execution_count": null,
      "metadata": {
        "id": "LREvaksbGruw"
      },
      "outputs": [],
      "source": [
        "##Computing false and true positive rates\n",
        "fpr_svm, tpr_svm, thresholds = roc_curve(y_test, svm_score)\n",
        "fpr_RF, tpr_RF, thresholds = roc_curve(y_test, RF_score)\n",
        "fpr_XGB, tpr_XGB, thresholds = roc_curve(y_test, XGB_score)\n",
        "fpr_LGBM, tpr_LGBM, thresholds = roc_curve(y_test, LGBM_score)\n",
        "fpr_KNN, tpr_KNN, thresholds = roc_curve(y_test, KNN_score)\n",
        "fpr_RKS, tpr_RKS, thresholds = roc_curve(y_test, RKS_score)\n",
        "fpr_RKXS, tpr_RKXS, thresholds = roc_curve(y_test, RKXS_score)\n",
        "fpr_clf, tpr_clf, thresholds = roc_curve(y_test, clf_score)\n",
        "#print(fpr_clf)\n",
        "#print(tpr_clf)"
      ]
    },
    {
      "cell_type": "code",
      "execution_count": null,
      "metadata": {
        "colab": {
          "base_uri": "https://localhost:8080/",
          "height": 550
        },
        "id": "LJYQdY5_H-Yk",
        "outputId": "2465b6ff-7b2f-42b9-dffd-242dbe4e26f1"
      },
      "outputs": [
        {
          "name": "stderr",
          "output_type": "stream",
          "text": [
            "/usr/local/lib/python3.7/dist-packages/ipykernel_launcher.py:19: MatplotlibDeprecationWarning: Adding an axes using the same arguments as a previous axes currently reuses the earlier instance.  In a future version, a new instance will always be created and returned.  Meanwhile, this warning can be suppressed, and the future behavior ensured, by passing a unique label to each axes instance.\n"
          ]
        },
        {
          "data": {
            "image/png": "[encoded data removed]",
            "text/plain": [
              "<Figure size 576x576 with 1 Axes>"
            ]
          },
          "metadata": {
            "needs_background": "light",
            "tags": []
          },
          "output_type": "display_data"
        }
      ],
      "source": [
        "fig_1 = plt.figure(figsize=(8,8))\n",
        "plt.plot(fpr_RF, tpr_RF, label='RF') #Ensamble\n",
        "plt.plot(fpr_KNN, tpr_KNN, label='KNN') #Ensamble\n",
        "plt.plot(fpr_XGB, tpr_XGB, label='XGB') #Ensamble\n",
        "plt.plot(fpr_LGBM, tpr_LGBM, label='LGBM') #Ensamble\n",
        "plt.plot(fpr_svm, tpr_svm, label='svm') #Ensamble\n",
        "plt.plot(fpr_RKS, tpr_RKS, label='(RF + KNN) + SVM') #Ensamble\n",
        "plt.plot(fpr_RKXS, tpr_RKXS, label='(RF + KNN + XGB) + SVM') #Ensamble\n",
        "plt.plot(fpr_clf, tpr_clf, label='(RF + KNN + LGBM) + SVM') #Ensamble\n",
        "\n",
        "plt.plot([0, 1], [0, 1], linestyle='--', lw=2, color='r',\n",
        "         label='random', alpha=.8)\n",
        "plt.xlim([0,1])\n",
        "plt.ylim([0,1])\n",
        "plt.xticks(np.arange(0,1.1,0.1))\n",
        "plt.yticks(np.arange(0,1.1,0.1))\n",
        "plt.grid()\n",
        "plt.legend()\n",
        "plt.axes().set_aspect('equal')\n",
        "plt.title('ROC Curve')\n",
        "plt.xlabel('False Positive Rate')\n",
        "plt.ylabel('True Positive Rate')\n",
        "plt.grid(b=None)\n",
        "plt.show()\n",
        "fig_1.savefig('ROC_10f.png')"
      ]
    }
  ],
  "metadata": {
    "accelerator": "TPU",
    "colab": {
      "collapsed_sections": [],
      "name": "Stacking.ipynb",
      "provenance": []
    },
    "interpreter": {
      "hash": "df95319d8ce4e1d89f5365ae10992bc1f65da593082b1d264e8f529830ec2f02"
    },
    "kernelspec": {
      "display_name": "Python 3.10.4 64-bit",
      "language": "python",
      "name": "python3"
    },
    "language_info": {
      "codemirror_mode": {
        "name": "ipython",
        "version": 3
      },
      "file_extension": ".py",
      "mimetype": "text/x-python",
      "name": "python",
      "nbconvert_exporter": "python",
      "pygments_lexer": "ipython3",
      "version": "3.10.4"
    }
  },
  "nbformat": 4,
  "nbformat_minor": 0
}
