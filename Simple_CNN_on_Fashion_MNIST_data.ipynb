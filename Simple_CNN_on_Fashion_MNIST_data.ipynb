{
  "nbformat": 4,
  "nbformat_minor": 0,
  "metadata": {
    "colab": {
      "provenance": [],
      "authorship_tag": "ABX9TyPz6JBcpvQy6hhHxoeWwiBy",
      "include_colab_link": true
    },
    "kernelspec": {
      "name": "python3",
      "display_name": "Python 3"
    },
    "language_info": {
      "name": "python"
    }
  },
  "cells": [
    {
      "cell_type": "markdown",
      "metadata": {
        "id": "view-in-github",
        "colab_type": "text"
      },
      "source": [
        "<a href=\"https://colab.research.google.com/github/istiaqahmedfahim/restart_2022/blob/main/Simple_CNN_on_Fashion_MNIST_data.ipynb\" target=\"_parent\"><img src=\"https://colab.research.google.com/assets/colab-badge.svg\" alt=\"Open In Colab\"/></a>"
      ]
    },
    {
      "cell_type": "code",
      "execution_count": 1,
      "metadata": {
        "id": "00TWvJDnOlYv"
      },
      "outputs": [],
      "source": [
        "import tensorflow as ts\n",
        "from tensorflow import keras\n",
        "import numpy as np\n",
        "import matplotlib.pyplot as plt\n"
      ]
    },
    {
      "cell_type": "markdown",
      "source": [
        "This is a dataset of 60,000 28x28 grayscale images of 10 fashion categories, along with a test set of 10,000 images. This dataset can be used as a drop-in replacement for MNIST."
      ],
      "metadata": {
        "id": "zb4RGPOJUMlU"
      }
    },
    {
      "cell_type": "code",
      "source": [
        "data = keras.datasets.fashion_mnist\n",
        "(train_images,train_label),(test_images,test_data)= data.load_data()"
      ],
      "metadata": {
        "id": "RDb8xFSjRDXG"
      },
      "execution_count": 2,
      "outputs": []
    },
    {
      "cell_type": "code",
      "source": [
        "index = 10\n",
        "np.set_printoptions(linewidth=320)\n",
        "print(f'train_label {train_label[index]}')\n",
        "print(f'\\nimage pixel array: \\n{train_images[index]} ')\n",
        "plt.imshow(train_images[index],cmap='Greys')\n",
        "plt.show()"
      ],
      "metadata": {
        "colab": {
          "base_uri": "https://localhost:8080/",
          "height": 803
        },
        "id": "qAqGFTMQR2h7",
        "outputId": "aa709476-162c-4238-be6c-20d49401825f"
      },
      "execution_count": 3,
      "outputs": [
        {
          "output_type": "stream",
          "name": "stdout",
          "text": [
            "train_label 0\n",
            "\n",
            "image pixel array: \n",
            "[[  0   0   0   0   0   0   0  11 142 200 106   0   0   0   0   0   0   0  85 185 112   0   0   0   0   0   0   0]\n",
            " [  0   0   0   0   0   0 152 214 217 194 236 216 187 149 135 153 211 217 231 205 217 188  34   0   0   0   0   0]\n",
            " [  0   0   0   0   0  66 185 166 180 181 190 211 221 197 146 198 206 191 168 190 172 188 175   0   0   0   0   0]\n",
            " [  0   0   0   0   0 135 153 160 175 180 170 186 187 190 188 190 187 174 195 185 174 161 175  59   0   0   0   0]\n",
            " [  0   0   0   0   0 161 147 160 170 178 177 180 168 173 174 171 185 184 185 172 171 164 174 120   0   0   0   0]\n",
            " [  0   0   0   0   2 175 146 145 168 178 181 185 180 184 178 179 187 191 193 190 181 171 172 158   0   0   0   0]\n",
            " [  0   0   0   0  35 177 155 140 151 172 191 187 186 187 186 187 182 191 194 188 180 161 161 185   0   0   0   0]\n",
            " [  0   0   0   0  59 170 153 141 120 154 160 161 172 168 166 161 165 172 170 164 139 149 162 166  21   0   0   0]\n",
            " [  0   0   0   0  79 145 160 214 123 128 153 160 164 158 157 154 155 170 165 141 195 193 152 166  61   0   0   0]\n",
            " [  0   0   0   0 100 157 225 245 175 113 174 158 158 160 155 160 164 178 188 135 185 240 201 172 108   0   0   0]\n",
            " [  0   0   0   0   0  31 174  28 126 153 166 152 158 158 160 161 157 168 191 188  18 132 159   7   0   0   0   0]\n",
            " [  0   0   0   0   0   0   0   0  82 187 159 153 157 158 162 164 164 154 187 190   0   0   0   0   0   0   0   0]\n",
            " [  0   0   0   0   1   3   5   0  37 175 158 155 162 158 160 162 165 153 177 205   0   0   3   3   0   0   0   0]\n",
            " [  0   0   0   0   0   0   1   0  25 175 152 160 158 161 160 164 164 161 166 200   0   0   1   0   0   0   0   0]\n",
            " [  0   0   0   0   0   0   4   0  30 171 147 164 155 165 161 165 162 170 164 162   0   0   2   0   0   0   0   0]\n",
            " [  0   0   0   0   0   0   4   0  57 166 155 164 166 161 161 164 167 165 165 162  28   0   3   0   0   0   0   0]\n",
            " [  0   0   0   0   0   0   3   0 114 161 161 166 159 168 161 161 172 162 165 171  50   0   5   0   0   0   0   0]\n",
            " [  0   0   0   0   0   0   1   0 149 157 167 172 159 172 164 161 172 170 160 171  89   0   4   0   0   0   0   0]\n",
            " [  0   0   0   0   0   2   0   4 171 164 166 173 159 179 166 160 174 167 162 166 128   0   2   0   0   0   0   0]\n",
            " [  0   0   0   0   0   3   0  18 152 173 160 179 154 181 166 164 175 170 166 170 164   0   0   1   0   0   0   0]\n",
            " [  0   0   0   0   0   4   0  47 165 172 167 185 153 187 173 165 174 179 166 166 158   5   0   3   0   0   0   0]\n",
            " [  0   0   0   0   0   4   0  87 180 162 179 179 157 191 182 165 168 190 173 165 166  20   0   4   0   0   0   0]\n",
            " [  0   0   0   0   0   4   0 105 187 157 194 175 161 190 184 170 158 205 177 168 171  44   0   4   0   0   0   0]\n",
            " [  0   0   0   0   0   5   0 138 181 158 205 160 167 190 198 167 152 218 186 170 172  57   0   5   0   0   0   0]\n",
            " [  0   0   0   0   0   5   0 135 174 167 199 155 166 201 219 165 158 218 188 167 175  56   0   7   0   0   0   0]\n",
            " [  0   0   0   0   0   5   0 129 171 172 177 153 159 206 216 148 157 206 190 165 175  48   0   5   0   0   0   0]\n",
            " [  0   0   0   0   0   5   0 167 187 182 198 194 200 226 240 184 206 255 197 178 179  42   0   5   0   0   0   0]\n",
            " [  0   0   0   0   0   3   0 115 135 113 106  85  82 108 133  83  90 121 120 110 158  18   0   3   0   0   0   0]] \n"
          ]
        },
        {
          "output_type": "display_data",
          "data": {
            "text/plain": [
              "<Figure size 432x288 with 1 Axes>"
            ],
            "image/png": "[encoded data removed]"
          },
          "metadata": {
            "needs_background": "light"
          }
        }
      ]
    },
    {
      "cell_type": "code",
      "source": [
        "normalized_train_images=train_images/255.0;\n",
        "normalized_test_images=test_images/255.0;\n",
        "cloths_name = ['tshirt','trouser','pull_over','dress','coat','sandal','shirt','sneaker','bag','ankle_boot']"
      ],
      "metadata": {
        "id": "4U9m6wH6TMOm"
      },
      "execution_count": 5,
      "outputs": []
    },
    {
      "cell_type": "code",
      "source": [
        "model = keras.Sequential([\n",
        "    keras.layers.Flatten(input_shape=(28,28)),\n",
        "    keras.layers.Dense(128,activation=\"relu\"),\n",
        "    keras.layers.Dense(10,activation=\"softmax\")\n",
        "])\n",
        "model.compile(optimizer=\"adam\",loss=\"sparse_categorical_crossentropy\",metrics=[\"accuracy\"])\n",
        "model.fit(normalized_train_images,train_label,epochs=15)\n",
        "test_loss,test_accuracy = model.evaluate(normalized_test_images,test_data)\n",
        "print(f'Tested_accuracy:{test_accuracy}')"
      ],
      "metadata": {
        "colab": {
          "base_uri": "https://localhost:8080/"
        },
        "id": "umLH2PiQVj_N",
        "outputId": "c5c20fa1-de9a-4324-e410-c80eee36eee3"
      },
      "execution_count": 14,
      "outputs": [
        {
          "output_type": "stream",
          "name": "stdout",
          "text": [
            "Epoch 1/15\n",
            "1875/1875 [==============================] - 10s 5ms/step - loss: 0.4947 - accuracy: 0.8244\n",
            "Epoch 2/15\n",
            "1875/1875 [==============================] - 7s 4ms/step - loss: 0.3765 - accuracy: 0.8642\n",
            "Epoch 3/15\n",
            "1875/1875 [==============================] - 8s 4ms/step - loss: 0.3382 - accuracy: 0.8768\n",
            "Epoch 4/15\n",
            "1875/1875 [==============================] - 7s 3ms/step - loss: 0.3135 - accuracy: 0.8854\n",
            "Epoch 5/15\n",
            "1875/1875 [==============================] - 8s 4ms/step - loss: 0.2945 - accuracy: 0.8911\n",
            "Epoch 6/15\n",
            "1875/1875 [==============================] - 7s 4ms/step - loss: 0.2823 - accuracy: 0.8946\n",
            "Epoch 7/15\n",
            "1875/1875 [==============================] - 7s 4ms/step - loss: 0.2682 - accuracy: 0.9010\n",
            "Epoch 8/15\n",
            "1875/1875 [==============================] - 8s 4ms/step - loss: 0.2586 - accuracy: 0.9044\n",
            "Epoch 9/15\n",
            "1875/1875 [==============================] - 6s 3ms/step - loss: 0.2475 - accuracy: 0.9072\n",
            "Epoch 10/15\n",
            "1875/1875 [==============================] - 8s 4ms/step - loss: 0.2391 - accuracy: 0.9108\n",
            "Epoch 11/15\n",
            "1875/1875 [==============================] - 7s 4ms/step - loss: 0.2328 - accuracy: 0.9140\n",
            "Epoch 12/15\n",
            "1875/1875 [==============================] - 8s 4ms/step - loss: 0.2231 - accuracy: 0.9167\n",
            "Epoch 13/15\n",
            "1875/1875 [==============================] - 6s 3ms/step - loss: 0.2161 - accuracy: 0.9189\n",
            "Epoch 14/15\n",
            "1875/1875 [==============================] - 8s 4ms/step - loss: 0.2114 - accuracy: 0.9212\n",
            "Epoch 15/15\n",
            "1875/1875 [==============================] - 8s 4ms/step - loss: 0.2054 - accuracy: 0.9231\n",
            "313/313 [==============================] - 1s 2ms/step - loss: 0.3523 - accuracy: 0.8872\n",
            "Tested_accuracy:0.8871999979019165\n"
          ]
        }
      ]
    }
  ]
}